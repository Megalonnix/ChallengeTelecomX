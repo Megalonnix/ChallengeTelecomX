{
 "cells": [
  {
   "cell_type": "markdown",
   "id": "f1f781b6",
   "metadata": {},
   "source": [
    "### 📌 **(ETL fase 01) - Extração Dados:**"
   ]
  },
  {
   "cell_type": "code",
   "execution_count": 206,
   "id": "b9c44316",
   "metadata": {},
   "outputs": [],
   "source": [
    "import pandas as pd\n",
    "import json\n",
    "\n",
    "url = r'data\\dadosAPI\\TelecomX_Data.json'\n",
    "df = pd.read_json(url)"
   ]
  },
  {
   "cell_type": "code",
   "execution_count": 207,
   "id": "913b171b",
   "metadata": {},
   "outputs": [
    {
     "data": {
      "text/html": [
       "<div>\n",
       "<style scoped>\n",
       "    .dataframe tbody tr th:only-of-type {\n",
       "        vertical-align: middle;\n",
       "    }\n",
       "\n",
       "    .dataframe tbody tr th {\n",
       "        vertical-align: top;\n",
       "    }\n",
       "\n",
       "    .dataframe thead th {\n",
       "        text-align: right;\n",
       "    }\n",
       "</style>\n",
       "<table border=\"1\" class=\"dataframe\">\n",
       "  <thead>\n",
       "    <tr style=\"text-align: right;\">\n",
       "      <th></th>\n",
       "      <th>customerID</th>\n",
       "      <th>Churn</th>\n",
       "      <th>customer</th>\n",
       "      <th>phone</th>\n",
       "      <th>internet</th>\n",
       "      <th>account</th>\n",
       "    </tr>\n",
       "  </thead>\n",
       "  <tbody>\n",
       "    <tr>\n",
       "      <th>0</th>\n",
       "      <td>0002-ORFBO</td>\n",
       "      <td>No</td>\n",
       "      <td>{'gender': 'Female', 'SeniorCitizen': 0, 'Part...</td>\n",
       "      <td>{'PhoneService': 'Yes', 'MultipleLines': 'No'}</td>\n",
       "      <td>{'InternetService': 'DSL', 'OnlineSecurity': '...</td>\n",
       "      <td>{'Contract': 'One year', 'PaperlessBilling': '...</td>\n",
       "    </tr>\n",
       "    <tr>\n",
       "      <th>1</th>\n",
       "      <td>0003-MKNFE</td>\n",
       "      <td>No</td>\n",
       "      <td>{'gender': 'Male', 'SeniorCitizen': 0, 'Partne...</td>\n",
       "      <td>{'PhoneService': 'Yes', 'MultipleLines': 'Yes'}</td>\n",
       "      <td>{'InternetService': 'DSL', 'OnlineSecurity': '...</td>\n",
       "      <td>{'Contract': 'Month-to-month', 'PaperlessBilli...</td>\n",
       "    </tr>\n",
       "    <tr>\n",
       "      <th>2</th>\n",
       "      <td>0004-TLHLJ</td>\n",
       "      <td>Yes</td>\n",
       "      <td>{'gender': 'Male', 'SeniorCitizen': 0, 'Partne...</td>\n",
       "      <td>{'PhoneService': 'Yes', 'MultipleLines': 'No'}</td>\n",
       "      <td>{'InternetService': 'Fiber optic', 'OnlineSecu...</td>\n",
       "      <td>{'Contract': 'Month-to-month', 'PaperlessBilli...</td>\n",
       "    </tr>\n",
       "  </tbody>\n",
       "</table>\n",
       "</div>"
      ],
      "text/plain": [
       "   customerID Churn                                           customer  \\\n",
       "0  0002-ORFBO    No  {'gender': 'Female', 'SeniorCitizen': 0, 'Part...   \n",
       "1  0003-MKNFE    No  {'gender': 'Male', 'SeniorCitizen': 0, 'Partne...   \n",
       "2  0004-TLHLJ   Yes  {'gender': 'Male', 'SeniorCitizen': 0, 'Partne...   \n",
       "\n",
       "                                             phone  \\\n",
       "0   {'PhoneService': 'Yes', 'MultipleLines': 'No'}   \n",
       "1  {'PhoneService': 'Yes', 'MultipleLines': 'Yes'}   \n",
       "2   {'PhoneService': 'Yes', 'MultipleLines': 'No'}   \n",
       "\n",
       "                                            internet  \\\n",
       "0  {'InternetService': 'DSL', 'OnlineSecurity': '...   \n",
       "1  {'InternetService': 'DSL', 'OnlineSecurity': '...   \n",
       "2  {'InternetService': 'Fiber optic', 'OnlineSecu...   \n",
       "\n",
       "                                             account  \n",
       "0  {'Contract': 'One year', 'PaperlessBilling': '...  \n",
       "1  {'Contract': 'Month-to-month', 'PaperlessBilli...  \n",
       "2  {'Contract': 'Month-to-month', 'PaperlessBilli...  "
      ]
     },
     "execution_count": 207,
     "metadata": {},
     "output_type": "execute_result"
    }
   ],
   "source": [
    "df.head(3)"
   ]
  },
  {
   "cell_type": "markdown",
   "id": "0e80b7b2",
   "metadata": {},
   "source": [
    "### 🔧 **(ETL fase 02) - Análise do Dataframe original + normalização:**\n",
    "\n",
    "O dataframe provém de um <strong>arquivo.json</strong>, por isso a seguir, farei uso do método normalize de maneira\n",
    "a deixar o documento mais adequado para manipulação."
   ]
  },
  {
   "cell_type": "code",
   "execution_count": 208,
   "id": "f9c586f4",
   "metadata": {},
   "outputs": [
    {
     "name": "stdout",
     "output_type": "stream",
     "text": [
      "<class 'pandas.core.frame.DataFrame'>\n",
      "RangeIndex: 7267 entries, 0 to 7266\n",
      "Data columns (total 6 columns):\n",
      " #   Column      Non-Null Count  Dtype \n",
      "---  ------      --------------  ----- \n",
      " 0   customerID  7267 non-null   object\n",
      " 1   Churn       7267 non-null   object\n",
      " 2   customer    7267 non-null   object\n",
      " 3   phone       7267 non-null   object\n",
      " 4   internet    7267 non-null   object\n",
      " 5   account     7267 non-null   object\n",
      "dtypes: object(6)\n",
      "memory usage: 340.8+ KB\n"
     ]
    }
   ],
   "source": [
    "df.info()"
   ]
  },
  {
   "cell_type": "code",
   "execution_count": 209,
   "id": "398f4761",
   "metadata": {},
   "outputs": [
    {
     "data": {
      "text/plain": [
       "customerID    object\n",
       "Churn         object\n",
       "customer      object\n",
       "phone         object\n",
       "internet      object\n",
       "account       object\n",
       "dtype: object"
      ]
     },
     "execution_count": 209,
     "metadata": {},
     "output_type": "execute_result"
    }
   ],
   "source": [
    "df.dtypes"
   ]
  },
  {
   "cell_type": "code",
   "execution_count": 210,
   "id": "f719627b",
   "metadata": {},
   "outputs": [
    {
     "data": {
      "text/plain": [
       "['customerID', 'Churn', 'customer', 'phone', 'internet', 'account']"
      ]
     },
     "execution_count": 210,
     "metadata": {},
     "output_type": "execute_result"
    }
   ],
   "source": [
    "colunas_df = list(df.columns)\n",
    "colunas_df"
   ]
  },
  {
   "cell_type": "code",
   "execution_count": 211,
   "id": "c67872bd",
   "metadata": {},
   "outputs": [
    {
     "data": {
      "text/html": [
       "<div>\n",
       "<style scoped>\n",
       "    .dataframe tbody tr th:only-of-type {\n",
       "        vertical-align: middle;\n",
       "    }\n",
       "\n",
       "    .dataframe tbody tr th {\n",
       "        vertical-align: top;\n",
       "    }\n",
       "\n",
       "    .dataframe thead th {\n",
       "        text-align: right;\n",
       "    }\n",
       "</style>\n",
       "<table border=\"1\" class=\"dataframe\">\n",
       "  <thead>\n",
       "    <tr style=\"text-align: right;\">\n",
       "      <th></th>\n",
       "      <th>gender</th>\n",
       "      <th>SeniorCitizen</th>\n",
       "      <th>Partner</th>\n",
       "      <th>Dependents</th>\n",
       "      <th>tenure</th>\n",
       "    </tr>\n",
       "  </thead>\n",
       "  <tbody>\n",
       "    <tr>\n",
       "      <th>0</th>\n",
       "      <td>Female</td>\n",
       "      <td>0</td>\n",
       "      <td>Yes</td>\n",
       "      <td>Yes</td>\n",
       "      <td>9</td>\n",
       "    </tr>\n",
       "    <tr>\n",
       "      <th>1</th>\n",
       "      <td>Male</td>\n",
       "      <td>0</td>\n",
       "      <td>No</td>\n",
       "      <td>No</td>\n",
       "      <td>9</td>\n",
       "    </tr>\n",
       "  </tbody>\n",
       "</table>\n",
       "</div>"
      ],
      "text/plain": [
       "   gender  SeniorCitizen Partner Dependents  tenure\n",
       "0  Female              0     Yes        Yes       9\n",
       "1    Male              0      No         No       9"
      ]
     },
     "execution_count": 211,
     "metadata": {},
     "output_type": "execute_result"
    }
   ],
   "source": [
    "pd.json_normalize(df['customer']).head(2)"
   ]
  },
  {
   "cell_type": "code",
   "execution_count": 212,
   "id": "35955694",
   "metadata": {},
   "outputs": [
    {
     "data": {
      "text/html": [
       "<div>\n",
       "<style scoped>\n",
       "    .dataframe tbody tr th:only-of-type {\n",
       "        vertical-align: middle;\n",
       "    }\n",
       "\n",
       "    .dataframe tbody tr th {\n",
       "        vertical-align: top;\n",
       "    }\n",
       "\n",
       "    .dataframe thead th {\n",
       "        text-align: right;\n",
       "    }\n",
       "</style>\n",
       "<table border=\"1\" class=\"dataframe\">\n",
       "  <thead>\n",
       "    <tr style=\"text-align: right;\">\n",
       "      <th></th>\n",
       "      <th>PhoneService</th>\n",
       "      <th>MultipleLines</th>\n",
       "    </tr>\n",
       "  </thead>\n",
       "  <tbody>\n",
       "    <tr>\n",
       "      <th>0</th>\n",
       "      <td>Yes</td>\n",
       "      <td>No</td>\n",
       "    </tr>\n",
       "    <tr>\n",
       "      <th>1</th>\n",
       "      <td>Yes</td>\n",
       "      <td>Yes</td>\n",
       "    </tr>\n",
       "  </tbody>\n",
       "</table>\n",
       "</div>"
      ],
      "text/plain": [
       "  PhoneService MultipleLines\n",
       "0          Yes            No\n",
       "1          Yes           Yes"
      ]
     },
     "execution_count": 212,
     "metadata": {},
     "output_type": "execute_result"
    }
   ],
   "source": [
    "pd.json_normalize(df['phone']).head(2)"
   ]
  },
  {
   "cell_type": "code",
   "execution_count": 213,
   "id": "fa5998e9",
   "metadata": {},
   "outputs": [
    {
     "data": {
      "text/html": [
       "<div>\n",
       "<style scoped>\n",
       "    .dataframe tbody tr th:only-of-type {\n",
       "        vertical-align: middle;\n",
       "    }\n",
       "\n",
       "    .dataframe tbody tr th {\n",
       "        vertical-align: top;\n",
       "    }\n",
       "\n",
       "    .dataframe thead th {\n",
       "        text-align: right;\n",
       "    }\n",
       "</style>\n",
       "<table border=\"1\" class=\"dataframe\">\n",
       "  <thead>\n",
       "    <tr style=\"text-align: right;\">\n",
       "      <th></th>\n",
       "      <th>InternetService</th>\n",
       "      <th>OnlineSecurity</th>\n",
       "      <th>OnlineBackup</th>\n",
       "      <th>DeviceProtection</th>\n",
       "      <th>TechSupport</th>\n",
       "      <th>StreamingTV</th>\n",
       "      <th>StreamingMovies</th>\n",
       "    </tr>\n",
       "  </thead>\n",
       "  <tbody>\n",
       "    <tr>\n",
       "      <th>0</th>\n",
       "      <td>DSL</td>\n",
       "      <td>No</td>\n",
       "      <td>Yes</td>\n",
       "      <td>No</td>\n",
       "      <td>Yes</td>\n",
       "      <td>Yes</td>\n",
       "      <td>No</td>\n",
       "    </tr>\n",
       "    <tr>\n",
       "      <th>1</th>\n",
       "      <td>DSL</td>\n",
       "      <td>No</td>\n",
       "      <td>No</td>\n",
       "      <td>No</td>\n",
       "      <td>No</td>\n",
       "      <td>No</td>\n",
       "      <td>Yes</td>\n",
       "    </tr>\n",
       "  </tbody>\n",
       "</table>\n",
       "</div>"
      ],
      "text/plain": [
       "  InternetService OnlineSecurity OnlineBackup DeviceProtection TechSupport  \\\n",
       "0             DSL             No          Yes               No         Yes   \n",
       "1             DSL             No           No               No          No   \n",
       "\n",
       "  StreamingTV StreamingMovies  \n",
       "0         Yes              No  \n",
       "1          No             Yes  "
      ]
     },
     "execution_count": 213,
     "metadata": {},
     "output_type": "execute_result"
    }
   ],
   "source": [
    "pd.json_normalize(df['internet']).head(2)"
   ]
  },
  {
   "cell_type": "code",
   "execution_count": 214,
   "id": "7d862d10",
   "metadata": {},
   "outputs": [
    {
     "data": {
      "text/html": [
       "<div>\n",
       "<style scoped>\n",
       "    .dataframe tbody tr th:only-of-type {\n",
       "        vertical-align: middle;\n",
       "    }\n",
       "\n",
       "    .dataframe tbody tr th {\n",
       "        vertical-align: top;\n",
       "    }\n",
       "\n",
       "    .dataframe thead th {\n",
       "        text-align: right;\n",
       "    }\n",
       "</style>\n",
       "<table border=\"1\" class=\"dataframe\">\n",
       "  <thead>\n",
       "    <tr style=\"text-align: right;\">\n",
       "      <th></th>\n",
       "      <th>Contract</th>\n",
       "      <th>PaperlessBilling</th>\n",
       "      <th>PaymentMethod</th>\n",
       "      <th>Charges.Monthly</th>\n",
       "      <th>Charges.Total</th>\n",
       "    </tr>\n",
       "  </thead>\n",
       "  <tbody>\n",
       "    <tr>\n",
       "      <th>0</th>\n",
       "      <td>One year</td>\n",
       "      <td>Yes</td>\n",
       "      <td>Mailed check</td>\n",
       "      <td>65.6</td>\n",
       "      <td>593.3</td>\n",
       "    </tr>\n",
       "    <tr>\n",
       "      <th>1</th>\n",
       "      <td>Month-to-month</td>\n",
       "      <td>No</td>\n",
       "      <td>Mailed check</td>\n",
       "      <td>59.9</td>\n",
       "      <td>542.4</td>\n",
       "    </tr>\n",
       "  </tbody>\n",
       "</table>\n",
       "</div>"
      ],
      "text/plain": [
       "         Contract PaperlessBilling PaymentMethod  Charges.Monthly  \\\n",
       "0        One year              Yes  Mailed check             65.6   \n",
       "1  Month-to-month               No  Mailed check             59.9   \n",
       "\n",
       "  Charges.Total  \n",
       "0         593.3  \n",
       "1         542.4  "
      ]
     },
     "execution_count": 214,
     "metadata": {},
     "output_type": "execute_result"
    }
   ],
   "source": [
    "pd.json_normalize(df['account']).head(2)"
   ]
  },
  {
   "cell_type": "code",
   "execution_count": 215,
   "id": "0f4ddc53",
   "metadata": {},
   "outputs": [],
   "source": [
    "# Juntando subdataframes ao df original:\n",
    "# exclui todas as colunas com objetos literais JS, e\n",
    "# concatenei os dfs normalizados acima:\n",
    "\n",
    "df = pd.concat([\n",
    "    df.drop(columns=['customer','phone','internet','account']),\n",
    "    pd.json_normalize(df['customer'], sep='_'),\n",
    "    pd.json_normalize(df['phone'], sep='_'),\n",
    "    pd.json_normalize(df['internet'], sep='_'),\n",
    "    pd.json_normalize(df['account'], sep='_')\n",
    "    ],\n",
    "    axis=1)"
   ]
  },
  {
   "cell_type": "code",
   "execution_count": 216,
   "id": "f26c36df",
   "metadata": {},
   "outputs": [
    {
     "data": {
      "text/html": [
       "<div>\n",
       "<style scoped>\n",
       "    .dataframe tbody tr th:only-of-type {\n",
       "        vertical-align: middle;\n",
       "    }\n",
       "\n",
       "    .dataframe tbody tr th {\n",
       "        vertical-align: top;\n",
       "    }\n",
       "\n",
       "    .dataframe thead th {\n",
       "        text-align: right;\n",
       "    }\n",
       "</style>\n",
       "<table border=\"1\" class=\"dataframe\">\n",
       "  <thead>\n",
       "    <tr style=\"text-align: right;\">\n",
       "      <th></th>\n",
       "      <th>customerID</th>\n",
       "      <th>Churn</th>\n",
       "      <th>gender</th>\n",
       "      <th>SeniorCitizen</th>\n",
       "      <th>Partner</th>\n",
       "      <th>Dependents</th>\n",
       "      <th>tenure</th>\n",
       "      <th>PhoneService</th>\n",
       "      <th>MultipleLines</th>\n",
       "      <th>InternetService</th>\n",
       "      <th>...</th>\n",
       "      <th>OnlineBackup</th>\n",
       "      <th>DeviceProtection</th>\n",
       "      <th>TechSupport</th>\n",
       "      <th>StreamingTV</th>\n",
       "      <th>StreamingMovies</th>\n",
       "      <th>Contract</th>\n",
       "      <th>PaperlessBilling</th>\n",
       "      <th>PaymentMethod</th>\n",
       "      <th>Charges_Monthly</th>\n",
       "      <th>Charges_Total</th>\n",
       "    </tr>\n",
       "  </thead>\n",
       "  <tbody>\n",
       "    <tr>\n",
       "      <th>0</th>\n",
       "      <td>0002-ORFBO</td>\n",
       "      <td>No</td>\n",
       "      <td>Female</td>\n",
       "      <td>0</td>\n",
       "      <td>Yes</td>\n",
       "      <td>Yes</td>\n",
       "      <td>9</td>\n",
       "      <td>Yes</td>\n",
       "      <td>No</td>\n",
       "      <td>DSL</td>\n",
       "      <td>...</td>\n",
       "      <td>Yes</td>\n",
       "      <td>No</td>\n",
       "      <td>Yes</td>\n",
       "      <td>Yes</td>\n",
       "      <td>No</td>\n",
       "      <td>One year</td>\n",
       "      <td>Yes</td>\n",
       "      <td>Mailed check</td>\n",
       "      <td>65.6</td>\n",
       "      <td>593.3</td>\n",
       "    </tr>\n",
       "    <tr>\n",
       "      <th>1</th>\n",
       "      <td>0003-MKNFE</td>\n",
       "      <td>No</td>\n",
       "      <td>Male</td>\n",
       "      <td>0</td>\n",
       "      <td>No</td>\n",
       "      <td>No</td>\n",
       "      <td>9</td>\n",
       "      <td>Yes</td>\n",
       "      <td>Yes</td>\n",
       "      <td>DSL</td>\n",
       "      <td>...</td>\n",
       "      <td>No</td>\n",
       "      <td>No</td>\n",
       "      <td>No</td>\n",
       "      <td>No</td>\n",
       "      <td>Yes</td>\n",
       "      <td>Month-to-month</td>\n",
       "      <td>No</td>\n",
       "      <td>Mailed check</td>\n",
       "      <td>59.9</td>\n",
       "      <td>542.4</td>\n",
       "    </tr>\n",
       "    <tr>\n",
       "      <th>2</th>\n",
       "      <td>0004-TLHLJ</td>\n",
       "      <td>Yes</td>\n",
       "      <td>Male</td>\n",
       "      <td>0</td>\n",
       "      <td>No</td>\n",
       "      <td>No</td>\n",
       "      <td>4</td>\n",
       "      <td>Yes</td>\n",
       "      <td>No</td>\n",
       "      <td>Fiber optic</td>\n",
       "      <td>...</td>\n",
       "      <td>No</td>\n",
       "      <td>Yes</td>\n",
       "      <td>No</td>\n",
       "      <td>No</td>\n",
       "      <td>No</td>\n",
       "      <td>Month-to-month</td>\n",
       "      <td>Yes</td>\n",
       "      <td>Electronic check</td>\n",
       "      <td>73.9</td>\n",
       "      <td>280.85</td>\n",
       "    </tr>\n",
       "  </tbody>\n",
       "</table>\n",
       "<p>3 rows × 21 columns</p>\n",
       "</div>"
      ],
      "text/plain": [
       "   customerID Churn  gender  SeniorCitizen Partner Dependents  tenure  \\\n",
       "0  0002-ORFBO    No  Female              0     Yes        Yes       9   \n",
       "1  0003-MKNFE    No    Male              0      No         No       9   \n",
       "2  0004-TLHLJ   Yes    Male              0      No         No       4   \n",
       "\n",
       "  PhoneService MultipleLines InternetService  ... OnlineBackup  \\\n",
       "0          Yes            No             DSL  ...          Yes   \n",
       "1          Yes           Yes             DSL  ...           No   \n",
       "2          Yes            No     Fiber optic  ...           No   \n",
       "\n",
       "  DeviceProtection TechSupport StreamingTV StreamingMovies        Contract  \\\n",
       "0               No         Yes         Yes              No        One year   \n",
       "1               No          No          No             Yes  Month-to-month   \n",
       "2              Yes          No          No              No  Month-to-month   \n",
       "\n",
       "  PaperlessBilling     PaymentMethod Charges_Monthly  Charges_Total  \n",
       "0              Yes      Mailed check            65.6          593.3  \n",
       "1               No      Mailed check            59.9          542.4  \n",
       "2              Yes  Electronic check            73.9         280.85  \n",
       "\n",
       "[3 rows x 21 columns]"
      ]
     },
     "execution_count": 216,
     "metadata": {},
     "output_type": "execute_result"
    }
   ],
   "source": [
    "df.head(3)"
   ]
  },
  {
   "cell_type": "code",
   "execution_count": 217,
   "id": "391f4794",
   "metadata": {},
   "outputs": [],
   "source": [
    "df.set_index('customerID', inplace=True)"
   ]
  },
  {
   "cell_type": "code",
   "execution_count": 218,
   "id": "cb18d8f2",
   "metadata": {},
   "outputs": [
    {
     "data": {
      "text/html": [
       "<div>\n",
       "<style scoped>\n",
       "    .dataframe tbody tr th:only-of-type {\n",
       "        vertical-align: middle;\n",
       "    }\n",
       "\n",
       "    .dataframe tbody tr th {\n",
       "        vertical-align: top;\n",
       "    }\n",
       "\n",
       "    .dataframe thead th {\n",
       "        text-align: right;\n",
       "    }\n",
       "</style>\n",
       "<table border=\"1\" class=\"dataframe\">\n",
       "  <thead>\n",
       "    <tr style=\"text-align: right;\">\n",
       "      <th></th>\n",
       "      <th>Churn</th>\n",
       "      <th>gender</th>\n",
       "      <th>SeniorCitizen</th>\n",
       "      <th>Partner</th>\n",
       "      <th>Dependents</th>\n",
       "      <th>tenure</th>\n",
       "      <th>PhoneService</th>\n",
       "      <th>MultipleLines</th>\n",
       "      <th>InternetService</th>\n",
       "      <th>OnlineSecurity</th>\n",
       "      <th>OnlineBackup</th>\n",
       "      <th>DeviceProtection</th>\n",
       "      <th>TechSupport</th>\n",
       "      <th>StreamingTV</th>\n",
       "      <th>StreamingMovies</th>\n",
       "      <th>Contract</th>\n",
       "      <th>PaperlessBilling</th>\n",
       "      <th>PaymentMethod</th>\n",
       "      <th>Charges_Monthly</th>\n",
       "      <th>Charges_Total</th>\n",
       "    </tr>\n",
       "    <tr>\n",
       "      <th>customerID</th>\n",
       "      <th></th>\n",
       "      <th></th>\n",
       "      <th></th>\n",
       "      <th></th>\n",
       "      <th></th>\n",
       "      <th></th>\n",
       "      <th></th>\n",
       "      <th></th>\n",
       "      <th></th>\n",
       "      <th></th>\n",
       "      <th></th>\n",
       "      <th></th>\n",
       "      <th></th>\n",
       "      <th></th>\n",
       "      <th></th>\n",
       "      <th></th>\n",
       "      <th></th>\n",
       "      <th></th>\n",
       "      <th></th>\n",
       "      <th></th>\n",
       "    </tr>\n",
       "  </thead>\n",
       "  <tbody>\n",
       "    <tr>\n",
       "      <th>0002-ORFBO</th>\n",
       "      <td>No</td>\n",
       "      <td>Female</td>\n",
       "      <td>0</td>\n",
       "      <td>Yes</td>\n",
       "      <td>Yes</td>\n",
       "      <td>9</td>\n",
       "      <td>Yes</td>\n",
       "      <td>No</td>\n",
       "      <td>DSL</td>\n",
       "      <td>No</td>\n",
       "      <td>Yes</td>\n",
       "      <td>No</td>\n",
       "      <td>Yes</td>\n",
       "      <td>Yes</td>\n",
       "      <td>No</td>\n",
       "      <td>One year</td>\n",
       "      <td>Yes</td>\n",
       "      <td>Mailed check</td>\n",
       "      <td>65.6</td>\n",
       "      <td>593.3</td>\n",
       "    </tr>\n",
       "    <tr>\n",
       "      <th>0003-MKNFE</th>\n",
       "      <td>No</td>\n",
       "      <td>Male</td>\n",
       "      <td>0</td>\n",
       "      <td>No</td>\n",
       "      <td>No</td>\n",
       "      <td>9</td>\n",
       "      <td>Yes</td>\n",
       "      <td>Yes</td>\n",
       "      <td>DSL</td>\n",
       "      <td>No</td>\n",
       "      <td>No</td>\n",
       "      <td>No</td>\n",
       "      <td>No</td>\n",
       "      <td>No</td>\n",
       "      <td>Yes</td>\n",
       "      <td>Month-to-month</td>\n",
       "      <td>No</td>\n",
       "      <td>Mailed check</td>\n",
       "      <td>59.9</td>\n",
       "      <td>542.4</td>\n",
       "    </tr>\n",
       "    <tr>\n",
       "      <th>0004-TLHLJ</th>\n",
       "      <td>Yes</td>\n",
       "      <td>Male</td>\n",
       "      <td>0</td>\n",
       "      <td>No</td>\n",
       "      <td>No</td>\n",
       "      <td>4</td>\n",
       "      <td>Yes</td>\n",
       "      <td>No</td>\n",
       "      <td>Fiber optic</td>\n",
       "      <td>No</td>\n",
       "      <td>No</td>\n",
       "      <td>Yes</td>\n",
       "      <td>No</td>\n",
       "      <td>No</td>\n",
       "      <td>No</td>\n",
       "      <td>Month-to-month</td>\n",
       "      <td>Yes</td>\n",
       "      <td>Electronic check</td>\n",
       "      <td>73.9</td>\n",
       "      <td>280.85</td>\n",
       "    </tr>\n",
       "  </tbody>\n",
       "</table>\n",
       "</div>"
      ],
      "text/plain": [
       "           Churn  gender  SeniorCitizen Partner Dependents  tenure  \\\n",
       "customerID                                                           \n",
       "0002-ORFBO    No  Female              0     Yes        Yes       9   \n",
       "0003-MKNFE    No    Male              0      No         No       9   \n",
       "0004-TLHLJ   Yes    Male              0      No         No       4   \n",
       "\n",
       "           PhoneService MultipleLines InternetService OnlineSecurity  \\\n",
       "customerID                                                             \n",
       "0002-ORFBO          Yes            No             DSL             No   \n",
       "0003-MKNFE          Yes           Yes             DSL             No   \n",
       "0004-TLHLJ          Yes            No     Fiber optic             No   \n",
       "\n",
       "           OnlineBackup DeviceProtection TechSupport StreamingTV  \\\n",
       "customerID                                                         \n",
       "0002-ORFBO          Yes               No         Yes         Yes   \n",
       "0003-MKNFE           No               No          No          No   \n",
       "0004-TLHLJ           No              Yes          No          No   \n",
       "\n",
       "           StreamingMovies        Contract PaperlessBilling     PaymentMethod  \\\n",
       "customerID                                                                      \n",
       "0002-ORFBO              No        One year              Yes      Mailed check   \n",
       "0003-MKNFE             Yes  Month-to-month               No      Mailed check   \n",
       "0004-TLHLJ              No  Month-to-month              Yes  Electronic check   \n",
       "\n",
       "            Charges_Monthly Charges_Total  \n",
       "customerID                                 \n",
       "0002-ORFBO             65.6         593.3  \n",
       "0003-MKNFE             59.9         542.4  \n",
       "0004-TLHLJ             73.9        280.85  "
      ]
     },
     "execution_count": 218,
     "metadata": {},
     "output_type": "execute_result"
    }
   ],
   "source": [
    "df.head(3)"
   ]
  },
  {
   "cell_type": "code",
   "execution_count": 219,
   "id": "d40db5a9",
   "metadata": {},
   "outputs": [
    {
     "name": "stdout",
     "output_type": "stream",
     "text": [
      "<class 'pandas.core.frame.DataFrame'>\n",
      "Index: 7267 entries, 0002-ORFBO to 9995-HOTOH\n",
      "Data columns (total 20 columns):\n",
      " #   Column            Non-Null Count  Dtype  \n",
      "---  ------            --------------  -----  \n",
      " 0   Churn             7267 non-null   object \n",
      " 1   gender            7267 non-null   object \n",
      " 2   SeniorCitizen     7267 non-null   int64  \n",
      " 3   Partner           7267 non-null   object \n",
      " 4   Dependents        7267 non-null   object \n",
      " 5   tenure            7267 non-null   int64  \n",
      " 6   PhoneService      7267 non-null   object \n",
      " 7   MultipleLines     7267 non-null   object \n",
      " 8   InternetService   7267 non-null   object \n",
      " 9   OnlineSecurity    7267 non-null   object \n",
      " 10  OnlineBackup      7267 non-null   object \n",
      " 11  DeviceProtection  7267 non-null   object \n",
      " 12  TechSupport       7267 non-null   object \n",
      " 13  StreamingTV       7267 non-null   object \n",
      " 14  StreamingMovies   7267 non-null   object \n",
      " 15  Contract          7267 non-null   object \n",
      " 16  PaperlessBilling  7267 non-null   object \n",
      " 17  PaymentMethod     7267 non-null   object \n",
      " 18  Charges_Monthly   7267 non-null   float64\n",
      " 19  Charges_Total     7267 non-null   object \n",
      "dtypes: float64(1), int64(2), object(17)\n",
      "memory usage: 1.2+ MB\n"
     ]
    }
   ],
   "source": [
    "# Analizando novas colunas existentes:\n",
    "df.info()"
   ]
  },
  {
   "cell_type": "code",
   "execution_count": 220,
   "id": "f69272d4",
   "metadata": {},
   "outputs": [
    {
     "data": {
      "text/plain": [
       "Churn                object\n",
       "gender               object\n",
       "SeniorCitizen         int64\n",
       "Partner              object\n",
       "Dependents           object\n",
       "tenure                int64\n",
       "PhoneService         object\n",
       "MultipleLines        object\n",
       "InternetService      object\n",
       "OnlineSecurity       object\n",
       "OnlineBackup         object\n",
       "DeviceProtection     object\n",
       "TechSupport          object\n",
       "StreamingTV          object\n",
       "StreamingMovies      object\n",
       "Contract             object\n",
       "PaperlessBilling     object\n",
       "PaymentMethod        object\n",
       "Charges_Monthly     float64\n",
       "Charges_Total        object\n",
       "dtype: object"
      ]
     },
     "execution_count": 220,
     "metadata": {},
     "output_type": "execute_result"
    }
   ],
   "source": [
    "df.dtypes"
   ]
  },
  {
   "cell_type": "code",
   "execution_count": 221,
   "id": "0a94c46e",
   "metadata": {},
   "outputs": [
    {
     "data": {
      "text/plain": [
       "['Churn',\n",
       " 'gender',\n",
       " 'SeniorCitizen',\n",
       " 'Partner',\n",
       " 'Dependents',\n",
       " 'tenure',\n",
       " 'PhoneService',\n",
       " 'MultipleLines',\n",
       " 'InternetService',\n",
       " 'OnlineSecurity',\n",
       " 'OnlineBackup',\n",
       " 'DeviceProtection',\n",
       " 'TechSupport',\n",
       " 'StreamingTV',\n",
       " 'StreamingMovies',\n",
       " 'Contract',\n",
       " 'PaperlessBilling',\n",
       " 'PaymentMethod',\n",
       " 'Charges_Monthly',\n",
       " 'Charges_Total']"
      ]
     },
     "execution_count": 221,
     "metadata": {},
     "output_type": "execute_result"
    }
   ],
   "source": [
    "colunas_df = list(df.columns)\n",
    "colunas_df"
   ]
  },
  {
   "cell_type": "markdown",
   "id": "8e589100",
   "metadata": {},
   "source": [
    "### 🔧 **(ETL fase 03) - Verificando Inconsistências nos Dados:**"
   ]
  },
  {
   "cell_type": "code",
   "execution_count": 222,
   "id": "a5148236",
   "metadata": {},
   "outputs": [],
   "source": [
    "def getValoresCelulas(df, nmColOrigem):\n",
    "    vlsExistentes = {\n",
    "        'nm_coluna': nmColOrigem,\n",
    "        'valores_vistos': \\\n",
    "        list(pd.unique(df[nmColOrigem]))\n",
    "    }\n",
    "    return vlsExistentes"
   ]
  },
  {
   "cell_type": "code",
   "execution_count": 223,
   "id": "86c4a4f6",
   "metadata": {},
   "outputs": [
    {
     "data": {
      "text/plain": [
       "{'nm_coluna': 'Churn', 'valores_vistos': ['No', 'Yes', '']}"
      ]
     },
     "execution_count": 223,
     "metadata": {},
     "output_type": "execute_result"
    }
   ],
   "source": [
    "getValoresCelulas(df, 'Churn') # Valores preenchidos na coluna \"Evasão/Churn\"."
   ]
  },
  {
   "cell_type": "code",
   "execution_count": 224,
   "id": "03a67780",
   "metadata": {},
   "outputs": [
    {
     "name": "stdout",
     "output_type": "stream",
     "text": [
      "{'nm_coluna': 'Churn', 'valores_vistos': ['No', 'Yes', '']}\n",
      "{'nm_coluna': 'gender', 'valores_vistos': ['Female', 'Male']}\n",
      "{'nm_coluna': 'SeniorCitizen', 'valores_vistos': [0, 1]}\n",
      "{'nm_coluna': 'Partner', 'valores_vistos': ['Yes', 'No']}\n",
      "{'nm_coluna': 'Dependents', 'valores_vistos': ['Yes', 'No']}\n",
      "{'nm_coluna': 'tenure', 'valores_vistos': [9, 4, 13, 3, 71, 63, 7, 65, 54, 72, 5, 56, 34, 1, 45, 50, 23, 55, 26, 69, 11, 37, 49, 66, 67, 20, 43, 59, 12, 27, 2, 25, 29, 14, 35, 64, 39, 40, 6, 30, 70, 57, 58, 16, 32, 33, 10, 21, 61, 15, 44, 22, 24, 19, 47, 62, 46, 52, 8, 60, 48, 28, 41, 53, 68, 51, 31, 36, 17, 18, 38, 42, 0]}\n",
      "{'nm_coluna': 'PhoneService', 'valores_vistos': ['Yes', 'No']}\n",
      "{'nm_coluna': 'MultipleLines', 'valores_vistos': ['No', 'Yes', 'No phone service']}\n",
      "{'nm_coluna': 'InternetService', 'valores_vistos': ['DSL', 'Fiber optic', 'No']}\n",
      "{'nm_coluna': 'OnlineSecurity', 'valores_vistos': ['No', 'Yes', 'No internet service']}\n",
      "{'nm_coluna': 'OnlineBackup', 'valores_vistos': ['Yes', 'No', 'No internet service']}\n",
      "{'nm_coluna': 'DeviceProtection', 'valores_vistos': ['No', 'Yes', 'No internet service']}\n",
      "{'nm_coluna': 'TechSupport', 'valores_vistos': ['Yes', 'No', 'No internet service']}\n",
      "{'nm_coluna': 'StreamingTV', 'valores_vistos': ['Yes', 'No', 'No internet service']}\n",
      "{'nm_coluna': 'StreamingMovies', 'valores_vistos': ['No', 'Yes', 'No internet service']}\n",
      "{'nm_coluna': 'Contract', 'valores_vistos': ['One year', 'Month-to-month', 'Two year']}\n",
      "{'nm_coluna': 'PaperlessBilling', 'valores_vistos': ['Yes', 'No']}\n",
      "{'nm_coluna': 'PaymentMethod', 'valores_vistos': ['Mailed check', 'Electronic check', 'Credit card (automatic)', 'Bank transfer (automatic)']}\n",
      "{'nm_coluna': 'Charges_Monthly', 'valores_vistos': [65.6, 59.9, 73.9, 98.0, 83.9, 69.4, 109.7, 84.65, 48.2, 90.45, 45.2, 116.8, 68.95, 101.3, 45.05, 95.75, 61.25, 72.1, 62.7, 25.1, 25.2, 94.1, 83.75, 19.85, 20.35, 30.5, 103.7, 20.4, 19.6, 19.7, 79.0, 91.2, 20.45, 115.8, 20.55, 39.4, 89.8, 94.75, 20.3, 75.75, 49.25, 78.2, 25.5, 61.6, 45.0, 85.15, 51.45, 99.25, 44.3, 94.2, 81.25, 99.95, 91.55, 104.5, 95.0, 50.35, 64.5, 19.4, 104.8, 109.4, 50.3, 71.4, 116.0, 99.75, 93.95, 90.8, 84.35, 58.25, 107.55, 19.95, 111.2, 40.2, 85.8, 19.9, 35.4, 73.85, 88.1, 101.35, 45.8, 94.65, 20.5, 89.4, 86.25, 74.85, 89.75, 109.95, 80.2, 90.35, 86.45, 101.25, 94.7, 70.9, 58.75, 54.2, 114.9, 19.55, 86.85, 25.35, 109.9, 87.2, 108.15, 116.3, 89.0, 74.4, 20.05, 35.05, 74.75, 105.5, 85.25, 75.2, 84.45, 102.4, 115.55, 25.3, 19.25, 114.65, 105.1, 57.8, 84.3, 100.55, 19.8, 84.8, 85.85, 75.35, 48.8, 47.15, 20.15, 59.55, 69.65, 36.1, 56.6, 75.9, 79.2, 85.55, 93.35, 109.65, 89.7, 84.25, 92.65, 50.1, 92.45, 79.65, 81.4, 50.55, 81.05, 62.45, 90.4, 85.65, 72.9, 70.5, 20.1, 74.9, 100.7, 105.65, 114.3, 19.75, 24.35, 69.85, 58.85, 103.15, 54.4, 21.05, 29.3, 54.75, 60.55, 86.2, 95.45, 63.95, 65.35, 50.2, 63.8, 101.15, 65.0, 36.05, 96.1, 19.05, 105.75, 40.4, 99.15, 49.45, 88.8, 55.15, 80.55, 58.7, 99.5, 99.85, 45.35, 48.55, 26.4, 100.2, 97.65, 100.0, 70.1, 34.2, 97.9, 102.5, 69.95, 81.35, 66.05, 61.2, 106.3, 39.6, 89.3, 108.9, 102.1, 98.9, 45.9, 99.9, 64.35, 19.65, 84.9, 102.55, 19.35, 70.4, 39.55, 50.15, 44.6, 34.7, 93.6, 90.6, 57.95, 112.1, 88.25, 60.3, 20.0, 85.35, 62.05, 64.4, 70.45, 105.0, 25.15, 19.3, 55.3, 95.4, 93.85, 105.55, 101.9, 24.45, 101.5, 110.65, 83.85, 60.25, 59.2, 44.4, 85.3, 66.1, 98.85, 49.2, 20.9, 19.5, 87.0, 49.0, 90.1, 90.7, 100.5, 74.7, 60.15, 94.45, 115.6, 45.3, 99.65, 95.55, 80.6, 69.55, 83.5, 83.8, 25.6, 20.75, 56.75, 98.8, 104.85, 73.0, 77.85, 105.45, 96.8, 24.25, 102.15, 64.85, 25.25, 24.75, 96.75, 74.45, 99.4, 19.15, 69.5, 73.7, 79.7, 79.9, 88.3, 75.55, 20.2, 71.65, 69.05, 71.1, 62.8, 100.35, 92.05, 70.75, 102.35, 50.5, 85.0, 42.1, 75.65, 24.8, 114.6, 65.7, 74.0, 85.45, 93.55, 109.55, 74.55, 79.85, 62.15, 25.55, 106.1, 79.6, 73.35, 23.9, 95.5, 78.6, 51.2, 61.4, 43.95, 25.9, 97.95, 83.3, 101.6, 72.75, 88.95, 78.35, 80.0, 49.85, 91.8, 100.15, 69.8, 46.35, 69.75, 25.45, 75.95, 78.75, 19.2, 25.05, 47.85, 111.9, 81.9, 18.85, 18.7, 81.55, 29.6, 45.55, 48.45, 41.9, 24.15, 67.5, 90.05, 76.5, 84.05, 95.6, 89.05, 102.95, 21.0, 82.3, 80.35, 70.65, 73.55, 104.4, 98.05, 48.95, 60.6, 19.0, 56.25, 25.8, 85.2, 28.5, 20.25, 93.5, 54.65, 71.9, 116.4, 69.25, 75.5, 101.1, 86.05, 72.45, 83.2, 110.0, 94.85, 105.95, 54.15, 68.25, 101.7, 65.85, 93.75, 61.65, 100.4, 89.65, 90.3, 94.3, 55.65, 70.7, 53.8, 50.05, 56.15, 86.65, 86.8, 109.5, 91.25, 95.85, 33.7, 63.35, 26.1, 74.6, 112.95, 88.35, 65.15, 59.7, 20.65, 23.75, 108.1, 39.0, 20.6, 80.15, 25.4, 46.3, 55.1, 78.4, 30.15, 70.85, 77.8, 99.0, 81.45, 66.7, 49.15, 19.1, 18.55, 111.25, 40.65, 89.9, 86.95, 35.55, 44.95, 48.4, 58.95, 100.3, 105.6, 60.9, 103.75, 113.35, 75.15, 82.4, 104.05, 85.7, 53.85, 102.25, 69.1, 65.75, 79.55, 84.6, 85.4, 103.95, 86.4, 45.7, 93.45, 104.3, 64.9, 19.45, 44.55, 96.5, 100.85, 105.35, 115.15, 113.0, 29.8, 80.8, 115.1, 85.5, 69.9, 95.8, 104.15, 83.05, 89.45, 75.25, 74.65, 29.9, 80.5, 89.6, 76.35, 100.05, 53.45, 100.25, 80.7, 92.95, 98.7, 30.1, 80.3, 73.65, 25.95, 98.15, 35.5, 104.1, 109.2, 96.2, 56.0, 70.8, 89.55, 29.2, 99.45, 50.85, 80.85, 49.4, 60.65, 45.75, 94.8, 100.8, 69.7, 106.05, 90.55, 24.85, 74.35, 89.1, 74.95, 80.45, 78.45, 103.5, 79.05, 70.25, 113.15, 70.55, 35.65, 108.65, 106.5, 105.4, 109.6, 92.15, 85.05, 25.7, 108.25, 98.75, 71.05, 30.75, 25.65, 75.85, 54.55, 99.8, 76.65, 51.0, 95.05, 101.05, 74.25, 49.8, 51.1, 105.8, 89.85, 55.0, 100.45, 53.9, 77.55, 53.65, 43.8, 24.6, 23.95, 98.45, 111.45, 84.15, 53.35, 87.55, 29.85, 94.15, 108.75, 39.1, 70.6, 109.75, 109.3, 106.65, 90.15, 89.2, 64.15, 60.0, 79.95, 91.1, 104.0, 73.6, 59.5, 23.05, 48.35, 49.6, 56.4, 49.65, 48.25, 108.45, 76.85, 65.1, 26.35, 91.15, 75.3, 115.0, 65.25, 46.0, 80.25, 110.5, 54.3, 34.65, 56.3, 66.4, 96.55, 81.3, 66.85, 43.65, 88.85, 44.05, 91.0, 110.6, 20.7, 21.1, 107.15, 24.7, 55.35, 89.95, 70.05, 78.55, 97.85, 79.35, 108.4, 110.75, 30.3, 98.4, 99.35, 55.25, 24.95, 46.4, 68.5, 103.4, 102.45, 71.6, 59.75, 78.65, 98.25, 59.65, 99.1, 30.35, 70.3, 56.05, 55.8, 66.35, 18.95, 91.05, 76.0, 74.05, 35.3, 69.35, 105.9, 107.95, 61.5, 49.9, 110.45, 71.35, 105.7, 79.25, 86.9, 82.5, 35.6, 82.1, 30.6, 67.8, 29.15, 115.65, 69.15, 95.25, 105.2, 98.5, 75.1, 51.05, 91.6, 24.4, 93.65, 49.95, 68.4, 116.05, 81.6, 94.5, 93.25, 116.85, 86.75, 45.85, 106.45, 63.3, 96.25, 49.7, 62.1, 98.3, 99.7, 58.5, 106.2, 104.35, 106.4, 114.2, 115.05, 63.75, 82.0, 94.0, 92.2, 97.55, 55.2, 87.3, 60.1, 51.5, 76.4, 93.9, 45.15, 33.55, 84.7, 83.0, 94.55, 50.95, 91.7, 93.8, 109.85, 74.1, 88.75, 70.95, 79.4, 93.4, 78.3, 76.6, 95.65, 66.8, 107.75, 59.8, 61.35, 69.0, 24.2, 91.3, 101.75, 89.5, 44.45, 94.25, 40.25, 79.5, 25.0, 35.25, 115.85, 20.8, 45.45, 95.9, 24.3, 106.8, 89.15, 48.6, 96.4, 67.6, 48.9, 24.05, 74.2, 58.35, 68.7, 20.85, 70.15, 65.05, 70.0, 39.3, 103.3, 79.8, 54.6, 111.6, 89.25, 58.6, 72.85, 80.4, 44.75, 68.6, 86.5, 61.15, 40.3, 95.1, 92.85, 100.6, 110.25, 98.2, 44.0, 113.3, 78.95, 23.3, 90.95, 75.05, 79.75, 58.4, 104.7, 81.95, 33.5, 99.55, 103.1, 102.6, 79.3, 85.6, 106.7, 49.05, 103.85, 67.45, 55.45, 84.2, 81.7, 114.45, 64.0, 55.7, 59.45, 35.9, 26.0, 84.0, 51.65, 96.6, 71.0, 111.15, 76.45, 35.45, 92.7, 75.4, 45.6, 96.65, 54.7, 88.15, 25.75, 67.95, 73.1, 50.75, 55.55, 50.7, 26.2, 45.65, 44.8, 68.65, 35.2, 63.9, 99.2, 54.9, 65.65, 39.35, 92.4, 96.0, 58.55, 40.1, 85.9, 78.85, 111.95, 59.1, 53.0, 80.65, 84.85, 60.85, 50.8, 90.0, 24.55, 98.6, 49.3, 103.2, 60.5, 103.25, 81.85, 80.1, 105.85, 46.25, 79.15, 72.95, 66.6, 70.2, 99.6, 109.15, 94.4, 110.8, 74.3, 78.5, 63.1, 45.4, 48.75, 58.0, 100.75, 117.45, 82.15, 76.55, 109.05, 33.9, 33.15, 111.05, 94.9, 104.25, 36.0, 84.75, 113.65, 93.0, 44.35, 66.25, 53.5, 95.3, 114.85, 49.35, 80.05, 85.1, 61.9, 110.15, 57.55, 54.8, 54.45, 94.6, 39.2, 56.8, 64.55, 101.4, 75.45, 98.1, 64.05, 92.5, 111.65, 101.85, 97.8, 35.1, 90.65, 95.7, 101.0, 109.45, 64.2, 76.1, 93.7, 30.2, 63.7, 105.05, 21.15, 73.45, 100.1, 65.5, 50.6, 30.4, 111.5, 77.15, 81.0, 107.5, 50.9, 111.75, 23.65, 60.05, 69.6, 46.1, 56.45, 54.25, 76.15, 108.0, 84.95, 111.3, 95.35, 76.95, 104.9, 66.15, 58.2, 33.6, 108.05, 101.45, 100.9, 86.1, 49.55, 54.85, 56.9, 90.75, 45.25, 82.65, 24.0, 95.2, 77.65, 43.35, 29.1, 53.1, 78.05, 104.95, 110.3, 83.4, 60.45, 108.55, 54.95, 26.8, 88.45, 71.45, 103.9, 103.65, 84.1, 93.15, 46.05, 87.25, 68.3, 103.8, 55.85, 83.65, 85.95, 40.9, 102.65, 21.3, 117.8, 34.0, 55.95, 34.85, 55.9, 83.45, 88.7, 110.1, 94.05, 103.05, 64.8, 33.45, 18.8, 51.4, 69.45, 91.95, 59.05, 74.8, 90.85, 110.05, 92.0, 86.15, 53.95, 24.9, 40.05, 95.15, 75.6, 33.75, 34.8, 73.8, 69.2, 55.4, 25.85, 73.75, 60.95, 87.4, 74.15, 78.1, 107.65, 52.15, 44.85, 97.75, 88.05, 92.55, 53.75, 64.95, 84.4, 98.55, 83.95, 74.5, 31.0, 43.6, 88.2, 29.45, 44.7, 113.8, 116.6, 106.0, 83.7, 28.6, 111.4, 72.6, 34.6, 34.4, 96.9, 104.65, 109.8, 97.25, 54.1, 76.9, 92.35, 94.35, 83.55, 24.5, 86.6, 21.25, 23.85, 63.55, 80.75, 109.0, 105.25, 79.45, 54.35, 108.85, 51.55, 77.35, 60.4, 55.5, 20.95, 94.95, 34.95, 57.5, 96.3, 38.5, 65.3, 112.6, 64.75, 99.3, 52.3, 77.75, 83.6, 98.35, 26.9, 83.35, 62.65, 99.05, 55.05, 111.55, 104.45, 106.9, 109.25, 64.1, 101.8, 38.8, 97.0, 36.25, 88.6, 88.65, 113.25, 39.7, 46.2, 63.05, 31.2, 38.55, 84.5, 78.9, 114.0, 82.85, 110.35, 35.35, 82.35, 67.75, 44.15, 71.8, 106.35, 107.0, 108.8, 36.45, 93.2, 76.05, 68.55, 106.85, 26.05, 100.65, 50.0, 116.55, 67.25, 23.45, 33.65, 117.6, 34.25, 35.0, 96.35, 66.2, 64.65, 113.05, 59.85, 71.25, 115.25, 36.15, 40.55, 114.05, 39.9, 53.4, 97.05, 75.7, 41.95, 71.75, 49.5, 45.1, 68.75, 59.6, 78.8, 65.2, 106.15, 116.45, 92.3, 85.75, 50.25, 44.65, 49.75, 81.75, 61.55, 86.7, 96.85, 106.6, 78.25, 24.1, 50.4, 30.9, 107.45, 104.2, 65.55, 76.2, 71.15, 60.8, 53.6, 51.6, 35.75, 76.25, 64.45, 92.1, 97.45, 66.5, 88.0, 91.35, 70.35, 102.9, 66.65, 102.05, 89.35, 88.9, 117.2, 103.45, 81.15, 75.8, 34.5, 59.3, 108.2, 108.95, 36.65, 114.5, 90.9, 116.25, 114.75, 63.6, 61.8, 90.25, 36.85, 71.3, 50.65, 43.9, 44.5, 61.3, 48.65, 52.55, 110.55, 38.1, 72.25, 57.65, 57.15, 88.4, 43.45, 72.65, 57.2, 91.85, 58.9, 24.65, 107.35, 109.1, 63.25, 43.75, 79.1, 105.3, 29.7, 35.15, 104.75, 81.1, 30.45, 26.25, 62.85, 61.0, 95.95, 45.5, 102.8, 87.9, 87.6, 52.2, 55.6, 107.6, 57.45, 88.55, 107.05, 35.8, 60.7, 82.05, 30.25, 23.55, 82.7, 110.85, 43.7, 51.8, 96.05, 112.4, 86.0, 44.9, 73.25, 44.1, 80.9, 47.6, 18.75, 34.55, 87.1, 71.5, 61.45, 98.65, 41.6, 86.55, 104.55, 73.5, 65.8, 91.45, 53.55, 71.95, 37.7, 75.0, 97.7, 48.7, 34.3, 102.7, 29.5, 66.3, 82.45, 18.9, 65.45, 39.05, 56.35, 91.5, 45.95, 67.2, 40.6, 72.0, 29.35, 29.65, 92.9, 110.2, 108.5, 66.9, 112.75, 34.05, 39.65, 29.4, 73.15, 87.8, 101.55, 87.15, 64.6, 105.15, 114.35, 63.85, 76.3, 51.35, 77.9, 102.0, 115.75, 38.9, 87.45, 96.15, 56.95, 54.05, 83.15, 78.15, 52.1, 40.35, 36.5, 48.15, 39.5, 82.9, 82.55, 91.65, 118.6, 68.85, 51.3, 68.45, 96.95, 100.95, 60.2, 58.45, 60.75, 31.35, 81.8, 72.8, 81.5, 26.3, 56.1, 73.05, 29.75, 46.6, 87.35, 97.1, 108.35, 26.5, 57.6, 56.65, 29.05, 97.2, 56.55, 52.85, 81.2, 68.15, 38.25, 23.4, 71.55, 64.7, 111.35, 92.6, 43.85, 52.0, 28.45, 68.1, 23.5, 90.5, 29.95, 90.2, 72.15, 40.15, 31.65, 41.35, 108.3, 63.15, 64.25, 107.4, 61.05, 83.25, 53.7, 82.75, 114.7, 87.95, 112.2, 63.4, 26.45, 93.3, 57.75, 30.85, 56.2, 43.05, 73.95, 58.65, 51.25, 117.15, 30.55, 104.6, 43.3, 114.1, 54.0, 54.5, 106.95, 59.0, 107.25, 18.25, 113.1, 52.5, 68.05, 117.35, 114.95, 21.2, 51.75, 59.95, 42.9, 87.05, 86.3, 112.55, 110.9, 106.25, 103.35, 71.7, 47.05, 102.85, 103.0, 62.25, 87.65, 77.4, 50.45, 112.25, 41.15, 113.2, 53.3, 108.6, 59.25, 64.3, 93.05, 23.6, 47.8, 66.75, 111.8, 29.25, 80.95, 61.1, 73.2, 65.4, 118.75, 87.7, 113.75, 78.0, 41.05, 113.6, 30.05, 60.35, 77.95, 42.3, 68.35, 107.7, 42.4, 42.6, 65.9, 116.1, 69.3, 62.3, 21.45, 97.35, 115.5, 116.5, 42.35, 38.6, 35.7, 31.1, 113.95, 76.75, 40.7, 72.2, 22.95, 118.35, 77.3, 114.55, 55.75, 73.3, 56.7, 39.15, 77.0, 68.9, 47.95, 53.15, 39.95, 81.65, 41.1, 59.4, 62.5, 82.95, 91.4, 39.85, 78.7, 77.5, 112.35, 107.2, 111.1, 49.1, 116.75, 113.4, 43.55, 31.05, 40.0, 67.7, 43.25, 44.2, 47.4, 23.15, 106.55, 23.8, 84.55, 101.95, 44.25, 56.5, 118.65, 40.75, 116.2, 39.45, 77.2, 103.6, 86.35, 52.7, 48.85, 67.05, 110.7, 72.35, 112.9, 51.7, 87.75, 106.75, 88.5, 62.55, 116.15, 117.5, 113.45, 38.85, 67.4, 18.4, 66.0, 59.15, 61.75, 116.95, 61.95, 96.7, 71.85, 51.15, 40.45, 107.9, 56.85, 67.65, 118.2, 76.8, 91.75, 68.8, 67.85]}\n",
      "{'nm_coluna': 'Charges_Total', 'valores_vistos': ['593.3', '542.4', '280.85', '1237.85', '267.4', '571.45', '7904.25', '5377.8', '340.35', '5957.9', '2460.55', '8456.75', '351.5', '7261.25', '2560.1', '6849.4', '1993.2', '72.1', '2791.5', '25.1', '1306.3', '1215.6', '1849.95', '57.2', '76.35', '30.5', '5656.75', '1090.6', '471.85', '1396.9', '929.3', '3247.55', '900.9', '7942.15', '1343.4', '825.4', '1070.15', '4959.6', '5597.65', '224.5', '1929', '91.1', '2078.95', '630.6', '1611', '1242.45', '6316.2', '727.85', '3532', '44.3', '2607.6', '5567.55', '3767.4', '3673.6', '4036.85', '1120.3', '314.55', '1888.45', '529.8', '7308.95', '6252.7', '2878.55', '1212.1', '8182.85', '19.85', '99.75', '2861.45', '1442.2', '4059.35', '4145.9', '3645.5', '187.75', '2317.1', '1448.8', '2193.65', '1355.1', '1748.9', '511.25', '5526.75', '1553.95', '1147', '6747.35', '865.05', '5976.9', '181.65', '3268.05', '1052.4', '7634.25', '80.2', '63.75', '190.5', '2401.05', '3949.15', '2362.1', '70.9', '1696.2', '1152.7', '287.85', '8496.7', '470.2', '1564.4', '1847.55', '3694.7', '58', '4017.45', '6825.65', '8309.55', '605.45', '1972.35', '33.7', '844.45', '2111.3', '6205.5', '855.3', '633.85', '474.9', '5848.6', '6471.85', '8127.6', '676.35', '864.2', '6049.5', '1582.75', '198.1', '1098.85', '4039.3', '2438.6', '7113.75', '576.65', '371.9', '167.3', '219.5', '273.4', '2555.05', '223.15', '165.5', '89.3', '235.05', '1144.6', '4908.25', '2298.9', '3789.2', '75.9', '4765', '2196.3', '85.55', '1444.65', '5405.8', '6339.3', '3847.6', '6733', '19.7', '50.1', '6140.85', '3870.3', '7624.2', '4354.45', '3431.75', '2227.1', '2045.55', '1929.35', '268.45', '181.5', '651.4', '3486.65', '1389.6', '2303.35', '1522.7', '6717.9', '8058.55', '58.85', '538.5', '5102.35', '465.7', '6792.45', '475.1', '3364.55', '113.85', '5036.3', '1234.8', '355.9', '1510.3', '1982.6', '4524.05', '95.45', '318.1', '1231.85', '2554', '4684.3', '614.45', '842.9', '2531.8', '86.05', '402.6', '453.4', '326.65', '7382.85', '422.6', '6010.05', '6046.1', '178.8', '314.6', '2274.35', '322.9', '888.75', '80.55', '973.35', '168.6', '5424.25', '2331.3', '89.5', '48.55', '121.25', '6851.65', '740.3', '6982.5', '3835.55', '70.1', '1782', '315.3', '6157.6', '330.15', '233.7', '3462.1', '4390.25', '5360.75', '4443.45', '2424.5', '577.6', '4854.3', '320.45', '5885.4', '426.65', '2911.3', '521.9', '5706.3', '471.7', '4539.6', '830.25', '3067.2', '3432.9', '6263.8', '1742.5', '1468.75', '3382.3', '46.35', '1992.2', '373', '50.15', '1414.45', '122.7', '34.7', '3366.05', '1943.2', '1271.8', '7965.95', '1460.65', '272.2', '3563.8', '5398.6', '3343.15', '198.7', '5897.4', '2511.55', '1398.6', '967.85', '139.4', '70.45', '7589.8', '1790.15', '44.4', '1284.2', '3474.2', '5574.75', '1430.95', '7542.25', '3545.35', '1709.1', '1421.9', '229.55', '5373.1', '5742.9', '6526.65', '2674.15', '170.5', '3175.85', '4297.95', '215.2', '4036', '4428.45', '295.95', '4947.55', '447.9', '20.9', '516.3', '1850.65', '749.25', '2598.95', '237.65', '4707.1', '5714.2', '1294.6', '3753.2', '3263.9', '2139.1', '5042.75', '1036', '6431.05', '2145', '2404.85', '2510.2', '2651.1', '5538.35', '200.2', '450.4', '5435', '1900.25', '1334.5', '67.1', '503.25', '1460.85', '2807.1', '6312.9', '3001.2', '3365.85', '2715.3', '1743.05', '1784.5', '4735.35', '2010.95', '996.45', '1715.1', '5238.9', '225.75', '3721.9', '5943.65', '477.6', '69.5', '1119.35', '1558.7', '79.7', '343.95', '1712.9', '2467.75', '1397.65', '349.65', '917.45', '135.75', '1087.7', '651.5', '71.1', '6029', '2278.75', '2799', '459.95', '5755.8', '390.85', '308.25', '442.6', '70.75', '3626.1', '2566.3', '2624.25', '2962', '1146.65', '24.8', '7882.5', '4378.9', '4052.4', '4874.7', '4140.1', '536.4', '8165.1', '563.05', '4191.45', '1857.75', '113.1', '372.45', '235.8', '5082.8', '3974.7', '931.55', '4048.95', '957.1', '521.8', '5430.65', '1626.4', '3058.15', '829.1', '1916.2', '5356.45', '6590.8', '1561.5', '438.9', '2960.1', '135', '653.9', '4630.2', '5867', '1374.9', '1845.9', '3930.55', '317.75', '2072.75', '743.05', '1837.9', '3168.75', '365.55', '252', '5960.5', '6283.3', '1540.35', '667.7', '3894.4', '837.5', '1534.05', '4542.35', '1052.35', '3600.65', '1013.2', '1820.45', '25.25', '1401.4', '25.05', '3147.5', '3678.3', '2068.55', '8071.05', '1028.9', '84.2', '1005.7', '5029.05', '299.05', '1126.75', '845.25', '6069.25', '48.45', '840.1', '558.8', '1776.45', '1544.05', '2169.8', '2921.75', '162.45', '1095.3', '1555.65', '1886.25', '6886.25', '1493.75', '214.4', '3825.85', '293.85', '1359.45', '2157.95', '4263.45', '713', '1323.7', '2985.25', '3942.45', '105.5', '1292.2', '25.8', '7285.7', '2874.45', '3435.6', '629.35', '6687.85', '20.25', '20.45', '2970.8', '54.65', '4479.2', '8543.25', '5682.25', '69.25', '4025.6', '1504.05', '1818.9', '95', '154.85', '4653.85', '4433.3', '1060.6', '67.55', '4874.8', '5000.2', '4335.2', '1312.45', '338.9', '3437.45', '6300.85', '4613.95', '576.95', '364.55', '1278.8', '5212.65', '902.25', '2157.5', '622.9', '5625.55', '713.75', '715', '321.75', '74.45', '3704.15', '1596.6', '3348.1', '5509.3', '6743.55', '741.7', '6287.3', '2679.7', '1090.65', '1270.25', '1400.55', '225.65', '3952.45', '7422.1', '179.35', '82.3', '3562.5', '2898.95', '6224.8', '5327.25', '56.35', '7534.65', '528.45', '4738.3', '141.1', '76.65', '197.7', '1537.85', '3409.1', '19.3', '4575.35', '980.35', '4798.4', '1882.55', '262.05', '723.35', '4122.65', '296.1', '1125.6', '918.6', '1446.8', '1529.65', '7238.6', '679.85', '330.25', '1108.8', '319.85', '1401.15', '7332.4', '6668.05', '1809.35', '639.45', '321.05', '993.15', '154.65', '1832.4', '3877.65', '382.2', '70.85', '4323.35', '4135', '44.2', '75.5', '2122.05', '1077.05', '62.25', '2310.2', '2550.9', '4442.75', '1372.45', '689', '302.45', '1871.15', '1396.25', '531.55', '7984.15', '328.95', '5958.85', '578.5', '4138.9', '564.65', '89.75', '35.55', '2168.9', '4517.25', '1250.1', '3442.8', '1461.15', '955.15', '4483.95', '7581.5', '265.3', '414.1', '345.9', '7039.45', '7222.75', '2088.75', '392.65', '1592.35', '6605.55', '2067', '259.8', '39.25', '1359', '4096.9', '1111.2', '723.4', '865.55', '425.9', '5639.05', '4922.4', '385.9', '31.55', '4237.5', '2754.45', '45.7', '4872.2', '5278.15', '1509.8', '113.5', '343.45', '1056.95', '5673.7', '3527.3', '5794.45', '730.1', '1376.5', '8349.45', '7987.6', '201.95', '4860.85', '7334.05', '4713.4', '4226.7', '1346.3', '7689.95', '1799.3', '247.25', '5294.6', '242', '19.55', '544.55', '118.25', '1011.8', '160.85', '5538.8', '2606.35', '5299.65', '1029.8', '875.55', '718.1', '3527.6', '788.8', '2369.3', '4122.9', '4107.25', '5812.6', '1623.4', '526.7', '1463.5', '1444.05', '1230.25', '432.25', '5060.9', '244.8', '497.3', '4298.45', '6700.05', '5290.45', '1296.15', '3183.4', '196.35', '764.55', '70.8', '677.05', '89.55', '19.65', '1641.8', '5011.15', '2312.55', '98.5', '2337.45', '7007.6', '1285.8', '2036.55', '1758.9', '5824.75', '140.4', '874.8', '3975.9', '953.65', '344.2', '20.1', '5264.3', '137.6', '492.55', '6690.75', '136.75', '19.05', '572.85', '6703.5', '5116.6', '962.25', '4317.35', '3342', '825.7', '1815.65', '5886.85', '2917.65', '5333.35', '6479.4', '4663.4', '414.95', '229.6', '2868.05', '1266.35', '7993.3', '1327.15', '139.75', '1493.55', '876.15', '646.05', '780.25', '27.55', '1397.3', '7726.35', '391.7', '5621.85', '7035.6', '5953', '69.9', '6480.9', '20.15', '505.45', '85.05', '1443.65', '5935.1', '1267', '1587.55', '472.65', '82.85', '1740.8', '4421.95', '69.75', '1442.65', '69.1', '743.5', '59.75', '4261.2', '5040.2', '601.25', '494.05', '7611.55', '7234.8', '5515.45', '1313.55', '428.45', '2264.5', '4504.55', '5971.25', '4859.25', '2455.05', '1083', '19.25', '3723.65', '20.35', '836.35', '711.15', '1802.15', '2998', '808.95', '6780.1', '1424.95', '1348.9', '3092.65', '3801.7', '1978.65', '457.1', '834.15', '3471.1', '70.65', '3804.4', '2106.05', '605.25', '1756.2', '6145.2', '407.05', '1389.85', '7266.95', '4164.4', '2198.9', '3090.05', '475.25', '4475.9', '75.6', '169.8', '5811.8', '7156.2', '1309', '2708.2', '19.75', '74.95', '321.4', '7932.5', '3023.55', '7337.55', '1463.45', '1263.05', '5168.1', '1672.35', '5869.4', '1139.2', '3686.05', '2423.4', '990.3', '2509.25', '3491.55', '383.65', '1347.15', '857.2', '3233.6', '3778.85', '2462.55', '1135.7', '6363.45', '520', '294.45', '695.75', '690.5', '415.95', '4513.65', '1255.1', '1067.15', '939.8', '3948.45', '244.85', '267.35', '1067.65', '5450.7', '202.25', '4964.7', '1901.05', '4304', '233.55', '663.55', '3846.75', '745.3', '184.05', '400', '1218.25', '160.05', '114.7', '6637.9', '5341.8', '1570.7', '7396.15', '209.9', '1035.5', '69.55', '221.7', '1266.1', '389.25', '1759.55', '1538.6', '1025.05', '292.4', '2169.4', '1229.1', '114.1', '303.7', '3186.65', '2857.6', '195.3', '768.45', '655.9', '5283.95', '2780.6', '5662.25', '3958.2', '6581.9', '5129.3', '4758.8', '1375.15', '294.2', '860.85', '599.25', '526.95', '2200.7', '332.65', '3011.65', '79.9', '2626.15', '7962.2', '1482.3', '741', '7379.8', '6152.4', '1685.9', '1636.95', '1240.8', '1648.45', '3842.6', '564.4', '149.55', '6841.3', '1024.65', '2187.15', '3344.1', '2249.95', '4079.55', '913.3', '1131.5', '959.9', '7767.25', '220.6', '5832', '1380.1', '5149.5', '757.1', '6944.5', '370.5', '189.95', '1342.15', '24.25', '5762.95', '7323.15', '3119.9', '190.25', '83.3', '812.4', '2839.95', '834.1', '6603', '128.6', '324.8', '5731.85', '1029.35', '6654.1', '20.05', '8220.4', '1957.1', '1374.35', '688.5', '68.8', '349.8', '483.3', '4858.7', '683.25', '5437.1', '678.75', '7344.45', '70.3', '434.5', '4408.45', ' ', '1133.7', '2283.3', '740.8', '424.45', '1536.75', '1430.05', '164.85', '1248.9', '147.55', '130.55', '289.1', '1588.75', '818.45', '95.85', '3670.5', '1224.05', '1498.2', '487.05', '1565.7', '264.8', '1272.05', '712.25', '334.65', '5969.85', '445.3', '1087.45', '1360.25', '579.4', '49.9', '52', '6077.75', '515.75', '5706.2', '3181.8', '2619.15', '19', '4939.25', '5669.5', '824.75', '5731.4', '5215.1', '260.9', '1072.6', '2603.1', '454.05', '856.35', '653.15', '459.6', '357.15', '7031.3', '7968.85', '69.15', '5464.65', '6225.4', '80', '58.15', '1058.25', '4092.85', '1949.4', '7548.6', '75.1', '2066', '89.1', '4627.8', '1037.75', '208.45', '4144.8', '1258.15', '581.7', '1068.85', '60.65', '1548.65', '6936.85', '4520.15', '49.95', '3512.5', '3972.25', '490.55', '43.8', '8404.9', '2815.25', '2659.4', '2936.25', '4631.7', '8477.7', '702.05', '5445.95', '4616.1', '20.2', '220.8', '25.7', '573.05', '5186', '81', '6145.85', '3371', '912', '1095.65', '1462.6', '703.55', '608.8', '4189.7', '4990.25', '2070.75', '2961.4', '553', '1096.65', '266.6', '62.05', '6066.55', '1927.3', '4977.2', '6994.6', '224.85', '6375.2', '3205.6', '2585.95', '3211.9', '1087.25', '869.9', '7723.9', '1663.5', '4895.1', '468.35', '344.5', '220.35', '226.2', '1127.2', '333.55', '773.65', '6333.4', '6392.85', '412.1', '1132.75', '5598', '1028.75', '220.65', '7511.9', '655.85', '593.45', '1637.3', '60.1', '1384.75', '900.5', '6822.15', '141.5', '4839.15', '4242.35', '1379.6', '2636.05', '531.15', '160.8', '2497.2', '1506.4', '4983.05', '524.35', '338.1', '4200.25', '45.15', '143.35', '1614.9', '3834.4', '1445.3', '502.6', '832.05', '5685.8', '1899.65', '554.25', '85', '709.5', '202.15', '398.55', '1789.65', '207.35', '70.25', '98.35', '3217.65', '6424.7', '3124.5', '1363.25', '7002.95', '1110.05', '1752.55', '450.9', '5348.65', '49.65', '3629.2', '19.2', '3810.55', '1291.35', '1208.35', '1026.35', '5336.35', '244.65', '7930.55', '481.1', '1652.1', '3756.4', '492', '849.9', '2564.3', '893', '6856.95', '947.75', '3970.4', '1143.8', '1286.05', '6521.9', '727.8', '301.55', '3638.25', '3169.55', '1108', '751.65', '1618.2', '4126.35', '2348.45', '948.9', '4614.55', '2553.7', '1068.15', '4273.45', '477.7', '6110.2', '19.45', '82.7', '6081.4', '411.45', '1815.3', '2665', '362.2', '5121.75', '3309.25', '300.7', '152.6', '5124.6', '35.25', '6567.9', '780.2', '75.35', '449.75', '4564.9', '3561.15', '1938.9', '791.15', '40.25', '746.75', '460.2', '79.55', '369.6', '147.75', '1269.1', '2516.2', '2275.1', '1697.7', '411.75', '3062.45', '25.2', '1247.75', '2745.2', '6562.9', '682.1', '38.45', '8333.95', '187.35', '5498.8', '2289.9', '261.3', '125.95', '1496.9', '48.6', '867.1', '38.15', '654.5', '4911.05', '2000.2', '1336.65', '5737.6', '134.75', '3527', '29.15', '2383.6', '1709.15', '1653.85', '6078.75', '1311.6', '5411.65', '4882.8', '74.2', '2610.65', '439.75', '4214.25', '854.8', '949.85', '1416.2', '7852.4', '5071.05', '272.35', '1961.6', '70.15', '355.1', '487.75', '178.7', '1514.85', '1427.55', '1277.5', '70', '2939.8', '91.45', '1057', '1637.4', '4689.15', '2680.15', '74.6', '4187.75', '402.85', '834.2', '2012.7', '4526.85', '866.45', '617.35', '242.8', '617.85', '6143.15', '7099', '1951', '1907.85', '43.95', '5817.45', '914.6', '2224.5', '2001.5', '1558.65', '19.5', '688.65', '579', '2937.65', '70.5', '360.35', '1111.65', '333.65', '2877.05', '96.1', '2743.45', '582.5', '1841.2', '1502.25', '61.15', '1794.8', '422.7', '6683.4', '5305.05', '3270.25', '620.55', '4952.95', '2409.9', '7279.35', '7015.9', '90.1', '44', '1335.2', '5032.25', '6441.85', '184.4', '1192.3', '2090.25', '1441.95', '4016.3', '1021.55', '45.3', '20.4', '415.9', '1101.85', '1448.6', '797.1', '6468.6', '780.1', '3808.2', '1121.05', '256.6', '46', '73', '256.25', '164.5', '514.75', '7674.55', '702', '779.25', '964.9', '1873.7', '1893.95', '157.65', '3545.05', '501.35', '6474.45', '6332.75', '6333.8', '4903.2', '20.5', '6710.5', '81.95', '201.7', '1292.65', '600', '1131.2', '84.3', '4674.4', '141.6', '970.45', '81.05', '6296.75', '348.8', '1301.7', '523.15', '1601.5', '2203.1', '1253.9', '2076.2', '6871.7', '107.6', '2496.7', '168.2', '3624.3', '3036.75', '4946.05', '308.1', '1801.1', '1477.65', '5324.5', '2548.65', '4847.35', '8100.55', '370.25', '55.7', '1884.65', '35.9', '1654.85', '4847.05', '5329.55', '204.7', '2838.55', '7322.5', '6827.5', '1808.7', '324.6', '805.2', '2080.1', '6953.4', '902', '503.6', '1835.3', '1728.2', '1391.65', '185.55', '1556.85', '1153.25', '232.55', '4911.35', '533.05', '418.4', '4133.95', '151.75', '25.4', '318.6', '45.6', '2698.35', '1588.25', '697.65', '1178.75', '6148.45', '5730.15', '2217.15', '275.9', '1654.75', '350.3', '4144.9', '50.75', '3008.15', '3121.1', '1405.3', '106.85', '151.3', '21.1', '1129.1', '1767.35', '536.35', '8312.4', '835.5', '1380.4', '609.65', '4194.85', '5917.55', '1077.5', '3688.6', '420.45', '45.65', '2983.65', '263.65', '1682.4', '261.25', '1733.15', '5431.9', '1463.7', '1192.7', '562.6', '1422.05', '2635', '3754.6', '1111.85', '1505.15', '989.45', '95.55', '3566.7', '2395.05', '406.05', '4822.85', '6786.1', '1888.25', '674.55', '7521.95', '6293.45', '4681.75', '1490.4', '1062.1', '1303.25', '119.5', '8250', '1718.95', '293.3', '1043.4', '1885.15', '1742.75', '1269.55', '3126.85', '6921.7', '3580.95', '3349.1', '8033.1', '6388.65', '1011.05', '4045.65', '3656.25', '5330.2', '84.85', '2003.6', '1928.7', '5125.75', '546.95', '50.8', '354.05', '3371.75', '1331.05', '886.4', '1077.95', '2070.05', '5581.05', '5560', '1246.4', '791.7', '438.4', '19.4', '8297.5', '289.3', '6579.05', '6110.75', '1956.4', '1079.45', '162.15', '1233.25', '883.35', '55.2', '132.25', '792.15', '5753.25', '7362.9', '263.05', '5401.9', '239.55', '1218.45', '3692.85', '3145.15', '6017.65', '3141.7', '2603.3', '415.4', '2471.6', '2239.65', '5135.35', '5810.9', '767.9', '4461.85', '3121.4', '79.15', '4953.25', '979.5', '249.55', '115.95', '1222.25', '347.65', '278.85', '7789.6', '4914.9', '5438.95', '4060.55', '6840.95', '1096.25', '571.05', '7751.7', '49.05', '4685.55', '45.4', '270.7', '624.15', '7213.75', '6017.9', '179.85', '5088.4', '1734.5', '4920.8', '2448.5', '5985', '4300.45', '1940.8', '4386.2', '741.5', '5438.9', '5784.3', '2065.4', '7108.2', '61.05', '298.45', '1430.25', '3880.05', '444.75', '19.9', '1183.8', '403.15', '144.95', '3058.65', '2024.1', '7321.05', '1203.95', '6692.65', '233.65', '3416.85', '3913.3', '4299.75', '342.4', '1171.5', '388.6', '857.75', '2832.75', '41.2', '890.6', '531.6', '812.5', '1191.4', '4014.6', '2722.2', '3254.35', '134.05', '73.65', '2890.65', '3848', '1861.5', '4134.85', '6812.95', '1382.9', '3231.05', '3050.15', '4981.15', '2044.75', '7939.25', '541.9', '2248.05', '208', '5720.95', '81.25', '546.45', '3180.5', '6578.55', '5607.75', '523.5', '4422.95', '8349.7', '6413.65', '735.9', '53.5', '5817.7', '279.5', '8317.95', '3442.15', '219.65', '61.7', '583.45', '916.75', '1177.95', '6310.9', '3019.1', '4534.9', '4657.95', '3088.75', '2924.05', '6448.05', '329.8', '42.9', '1119.9', '7719.5', '161.45', '74.7', '847.25', '208.25', '1434.1', '3465.7', '2391.8', '1633', '1127.35', '5948.7', '4009.2', '109.8', '560.6', '1074.65', '651.55', '4250.1', '6841.05', '1937.4', '3545.1', '3886.05', '1060.2', '2613.4', '733.95', '2109.35', '775.3', '452.7', '395.6', '169.75', '74.3', '7943.45', '531', '4086.3', '1642.75', '2852.4', '2215.25', '2666.75', '3273.55', '5458.8', '20.65', '169.65', '1498.35', '740', '1886.4', '658.95', '68.75', '2484', '174.3', '2989.6', '84.75', '2316.85', '7882.25', '760.05', '1975.85', '567.45', '1451.1', '1013.05', '1864.2', '821.6', '2614.1', '79.5', '158.4', '3126.45', '1803.7', '3777.15', '6339.45', '1466.1', '7085.5', '6572.85', '2106.3', '2093.4', '1093', '1233.4', '6585.35', '5873.75', '5638.3', '469.65', '4504.9', '24.7', '2763.35', '19.95', '186.05', '1492.1', '3865.45', '3053', '4535.85', '6744.25', '1623.15', '1498.85', '24.05', '237.95', '3762', '1419.4', '4370.75', '506.9', '2661.1', '4378.35', '1593.1', '3874.1', '3801.3', '1073.3', '1621.35', '4915.15', '100.35', '989.05', '259.65', '66.95', '509.3', '7782.85', '641.25', '3759.05', '3143.65', '1901.65', '540.95', '1564.05', '208.7', '1414.65', '49', '266.9', '77.15', '4818.8', '1164.3', '340.85', '7713.55', '1240.15', '2447.45', '72', '7069.3', '2553.35', '225.6', '7511.3', '1416.75', '6871.9', '3229.65', '69.6', '201', '5289.05', '130.15', '3985.35', '38.8', '2180.55', '746.5', '717.95', '447.75', '669', '4929.55', '600.25', '5760.65', '1145.7', '420.2', '2169.75', '929.45', '7482.1', '898.35', '4543.95', '1600.95', '7559.55', '2510.7', '145', '4834', '3190.65', '25.15', '455.3', '44.75', '3340.55', '6139.5', '173.15', '324.2', '6951.15', '5780.7', '978', '2807.65', '20.3', '335.65', '3199', '469.25', '417', '2467.1', '2117.2', '2758.15', '2368.4', '718.55', '99.45', '758.6', '7118.9', '2948.6', '25.75', '958.25', '5448.6', '926.25', '1629.2', '3540.65', '20.75', '1939.35', '387.9', '524.5', '213.35', '3551.65', '163.6', '181.6', '1387.45', '1625.65', '273.25', '181.7', '49.55', '6903.1', '2191.7', '90.75', '5986.55', '641.35', '3608', '104.3', '85.5', '184.1', '1470.05', '122', '226.55', '2364', '6137', '419.9', '4730.6', '4805.65', '908.55', '930.4', '714.15', '3251.3', '165.4', '371.4', '688', '1901.25', '7567.2', '1258.3', '78.05', '971.3', '780.15', '601.6', '5222.35', '270.2', '6997.3', '253.8', '6028.95', '238.15', '83.4', '76.95', '3184.25', '927.1', '4896.35', '7616', '341.6', '1748.55', '4222.95', '238.1', '1348.5', '1357.1', '475.2', '5608.4', '5376.4', '611.45', '733.55', '3334.9', '762.25', '2130.55', '1362.85', '923.1', '331.9', '1023.95', '597', '543', '921.3', '1679.4', '5025.85', '3314.15', '220.45', '3775.85', '865.85', '572.2', '6449.15', '199.75', '3988.5', '57.4', '45.05', '693.45', '7532.15', '4348.65', '38.7', '2231.05', '3161.4', '80.35', '4259.3', '1258.6', '4378.8', '1439.35', '2471.25', '59.55', '3470.8', '68.65', '3856.75', '5016.25', '937.5', '1727.5', '124.4', '5308.7', '346.2', '80.5', '5733.4', '79.25', '155.8', '4016.85', '3303.05', '3634.8', '1215.65', '1383.6', '666', '7550.3', '140.1', '227.45', '5388.15', '5913.95', '2416.55', '6194.1', '6873.75', '1841.9', '1041.8', '8684.8', '4786.1', '309.25', '853', '3132.75', '146.65', '1157.05', '6770.5', '1462.05', '44.55', '6052.25', '154.8', '233.9', '1468.9', '1267.2', '3358.65', '2184.35', '1406.65', '1651.95', '333.6', '69.95', '3147.15', '5514.95', '2038.7', '6501.35', '140.95', '5566.4', '4312.5', '112.75', '777.3', '5508.35', '1994.3', '788.35', '4469.1', '5483.9', '5153.5', '36.55', '3593.8', '1166.7', '1175.85', '50.6', '332.45', '424.15', '4254.1', '1400.85', '1772.25', '4959.15', '518.9', '473.9', '2333.85', '781.4', '307.4', '2107.15', '1801.9', '18.8', '96.8', '3870', '477.05', '995.35', '5468.95', '3301.05', '5965.95', '1253.5', '1607.2', '1078.9', '145.4', '293.15', '321.9', '1375.4', '7732.65', '2341.55', '3015.75', '5991.05', '6470.1', '7430.75', '573.3', '6632.75', '5883.85', '2375.4', '4062.2', '467.7', '2799.75', '1524.85', '3351.55', '2964.8', '1993.25', '2395.7', '5617.75', '5676.65', '193.8', '39.85', '485.9', '6125.4', '377.55', '661.55', '158.95', '2263.4', '1009.25', '858.6', '3478.15', '7530.8', '2745.7', '2658.8', '1584.8', '89.9', '572.45', '431', '1604.5', '2522.4', '601.55', '196.9', '953.45', '85.8', '292.85', '113.95', '4620.4', '190.1', '4003.85', '3503.5', '1924.1', '4213.35', '331.85', '944.65', '283.75', '4539.35', '55.4', '3848.8', '88.8', '25.85', '5941.05', '545.15', '478.75', '5815.15', '248.4', '357.75', '246.7', '942.95', '94.4', '228.65', '1759.4', '6474.4', '6595', '1336.1', '6876.05', '134.6', '35.45', '5918.8', '1387', '1691.9', '947.3', '2867.75', '6018.65', '7082.85', '810.3', '910.45', '156.35', '82.9', '1296.8', '5453.4', '627.4', '5899.85', '274.35', '4639.45', '1911.5', '1230.9', '467.15', '2583.75', '4018.55', '188.1', '294.5', '2572.95', '6991.6', '6218.45', '253', '1175.6', '489.45', '1222.8', '270.8', '6669.45', '189.45', '6425.65', '1718.35', '4137.2', '1198.8', '48.35', '174.8', '2546.85', '3097', '3928.3', '5409.75', '4779.45', '347.4', '3196', '45.85', '5175.3', '3741.85', '6236.75', '930.9', '501.2', '1415.85', '3009.5', '3782.4', '71.35', '478.1', '100.25', '1339.8', '313.4', '3635.15', '6844.5', '91.7', '268.4', '890.35', '5069.65', '239.45', '2909.95', '7611.85', '4116.15', '61.45', '2088.05', '2007.25', '6631.85', '264.85', '7511.65', '576.7', '4677.1', '1507', '5427.05', '3017.65', '2538.2', '2031.95', '1214.05', '1107.2', '5860.7', '742.95', '6352.4', '1269.6', '261.65', '2254.2', '5898.6', '5963.95', '2727.3', '3533.6', '7061.65', '1425.45', '132.4', '609.9', '95.05', '264.55', '296.15', '7746.7', '851.75', '2748.7', '330.05', '1301.9', '5244.45', '1775.8', '747.2', '1459.35', '276.5', '7845.8', '8337.45', '7723.7', '4438.2', '4890.5', '1813.35', '5893.9', '401.5', '1441.65', '1682.05', '75.05', '1378.45', '2093.9', '678.8', '2633.3', '153.3', '973.55', '1183.05', '154.3', '76.4', '813.45', '1912.15', '5696.6', '592.75', '1447.9', '3886.85', '3145.9', '2414.55', '5084.65', '1386.8', '1130.85', '4747.5', '198', '1122.4', '413', '266.8', '3474.05', '573.75', '1273.3', '2085.45', '7288.4', '2847.4', '6314.35', '155.35', '3587.25', '3655.45', '1796.55', '1173.55', '7133.1', '1992.85', '5023', '393.45', '810.7', '2211.8', '2602.9', '5890', '889', '6341.45', '4108.15', '210.65', '1158.85', '7405.5', '109.6', '1329.15', '2509.95', '257.6', '343.6', '1281', '711.9', '1132.35', '675.6', '5487', '273', '1013.6', '5135.15', '251.25', '462.8', '625.65', '829.55', '2058.5', '6302.8', '2387.75', '115.1', '2548.55', '1094.5', '6448.85', '1474.75', '3121.45', '3046.4', '3043.6', '1381.8', '4116.9', '7661.8', '75.45', '4295.35', '239.05', '45.25', '2237.55', '5969.95', '134.35', '788.05', '6786.4', '371.6', '145.15', '71', '1426.45', '272', '6287.25', '765.5', '1620.8', '5231.2', '69.35', '5550.1', '24.4', '547.65', '2640.55', '2651.2', '227.35', '2065.15', '730.4', '3865.6', '495.15', '1760.25', '3720.35', '435', '1396', '1160.75', '499.4', '609.05', '552.65', '1071.4', '2349.8', '1083.7', '676.15', '985.05', '4868.4', '610.2', '1006.9', '1534.75', '3265.95', '3439', '1546.3', '5743.3', '620.75', '5222.3', '606.55', '3282.75', '70.05', '1177.05', '4859.95', '1426.75', '3398.9', '954.9', '1189.9', '7985.9', '6239.05', '1732.6', '2292.75', '2763', '4759.75', '7920.7', '55.3', '8126.65', '1167.8', '2345.2', '2324.7', '504.2', '4209.95', '358.05', '3765.05', '155.9', '400.3', '4741.45', '4266.4', '3252', '79.45', '1270.2', '4600.95', '5959.3', '4889.2', '165.35', '1250.85', '269.65', '2757.85', '938.65', '74.4', '6597.25', '416.45', '3496.3', '4375.8', '2952.85', '3210.35', '45.55', '505.95', '5576.3', '1938.05', '6652.45', '5013', '2077.95', '5430.35', '6941.2', '3958.85', '867.3', '55.05', '1445.2', '7966.9', '435.4', '55', '1373.05', '5720.35', '778.1', '4368.95', '1064.95', '3554.6', '348.15', '482.8', '42.45', '101.1', '3110.1', '2595.25', '7349.35', '798.2', '583', '3316.1', '1523.4', '1364.3', '6741.15', '1681.6', '7082.5', '1031.7', '87.3', '1369.8', '2782.4', '416.4', '672.55', '75.3', '504.05', '1752.45', '1445.95', '603', '1201.65', '592.65', '5882.75', '3505.1', '1297.8', '559.2', '2806.9', '1389.35', '6993.65', '644.35', '1334.45', '1051.9', '1914.9', '1151.05', '6201.95', '776.25', '5321.25', '7895.15', '165.2', '5839.3', '54.9', '4698.05', '6129.65', '1035.7', '1457.25', '710.05', '108.15', '305.95', '46.2', '8078.1', '319.15', '3021.6', '93.55', '193.05', '78.65', '914', '1377.7', '7049.5', '566.5', '253.9', '288.05', '6219.6', '1067.05', '926.2', '156.1', '92.05', '1821.8', '4179.1', '516.15', '1261.35', '1424.4', '190.05', '3784', '930.45', '6875.35', '74.25', '2781.85', '2184.6', '1252', '3229.4', '3906.7', '2976.95', '6067.4', '49.3', '106.9', '3479.05', '129.2', '1031.1', '4307.1', '137.95', '304.6', '561.15', '88.35', '1291.3', '242.4', '122.9', '8175.9', '1714.55', '2021.2', '460.25', '7246.15', '1114.55', '5251.75', '1232.9', '2483.65', '1222.05', '2048.8', '1317.95', '4119.4', '65.95', '1852.85', '3632', '116.65', '246.25', '150', '35.05', '254.5', '1390.6', '92.65', '6674.65', '3520.75', '6152.3', '7082.45', '6890', '908.15', '7508.55', '5746.15', '1583.5', '670.35', '1781.35', '1277.75', '36.45', '1079.65', '456.85', '6506.15', '2747.2', '564.35', '1279', '7677.4', '565.75', '5688.05', '1290', '1474.9', '8152.3', '4707.85', '4234.15', '893.2', '23.45', '85.1', '529.5', '795.15', '89.15', '20.55', '1228.65', '5017.9', '137.85', '56', '5276.1', '20', '927.15', '8308.9', '1715.15', '673.25', '761.95', '3521.7', '2404.15', '139.35', '280.4', '7854.9', '602.55', '1901', '7133.25', '35', '6766.95', '2917.5', '1321.3', '31.2', '552.7', '247', '4692.55', '1640', '299.75', '1710.45', '4228.55', '191.05', '696.35', '3735.45', '3162.65', '7848.5', '358.15', '5785.65', '146.9', '5893.15', '7869.05', '767.55', '1784.9', '655.5', '59.85', '71.25', '6758.45', '1144.5', '2434.45', '8109.8', '1216.6', '5776.45', '799', '1390.85', '59.2', '8289.2', '2796.35', '3579.15', '571.75', '693.3', '4385.05', '1218.55', '4676.7', '336.15', '497.55', '2965.75', '1496.45', '4310.35', '5165.7', '1714.95', '770.5', '4374.55', '256.75', '1265.65', '3444.85', '45.1', '2029.05', '4867.95', '443.9', '4747.85', '1932.75', '2186.4', '1110.5', '39.3', '5997.1', '2049.05', '1834.95', '480.6', '4563', '50.9', '452.8', '4447.55', '1210.4', '3509.4', '3944.5', '1641.3', '1643.55', '2244.95', '4543.15', '3152.5', '894.3', '44.05', '8013.55', '202.9', '6719.9', '1680.25', '838.7', '3791.6', '1123.65', '2804.45', '1414.8', '20.6', '117.95', '467.5', '168.9', '5688.45', '695.85', '2203.65', '525.55', '91.3', '3473.4', '669.45', '322.5', '111.4', '1388.45', '560.85', '3069.45', '2862.55', '5511.65', '2028.8', '1093.2', '1910.75', '5309.5', '5219.65', '2369.05', '5893.95', '1411.35', '3766.2', '20.8', '1490.95', '521.1', '2809.05', '432.5', '1551.6', '138.85', '3004.15', '1580.1', '6849.75', '152.3', '220.4', '59.05', '1412.4', '3436.1', '2398.4', '7291.75', '6375.8', '401.95', '7576.7', '4828.05', '522.95', '6816.95', '639.7', '141.7', '5364.8', '49.5', '2406.1', '5025.8', '1815', '54.75', '4619.55', '3243.45', '6463.15', '1129.75', '275.7', '2181.75', '4807.45', '981.45', '563.65', '893.55', '3591.25', '178.5', '2042.05', '1301.1', '224.05', '873.4', '5743.05', '212.4', '3682.45', '417.5', '1973.75', '5683.6', '4322.85', '1315.35', '3182.95', '1442', '4103.9', '863.1', '3815.4', '2054.4', '574.35', '2492.25', '73.1', '639.65', '3836.3', '7623.2', '1497.9', '801.3', '854.45', '2104.55', '4747.2', '7039.05', '244.75', '399.25', '2020.9', '1785.65', '4154.55', '174.75', '4304.5', '4085.75', '4528', '2181.55', '220.95', '108.05', '4338.6', '416.3', '729.95', '44.6', '1169.35', '6253', '164.3', '1007.8', '901.25', '1066.15', '2728.6', '6118.95', '1672.15', '442.45', '5986.45', '196.75', '1862.9', '2435.15', '273.75', '5764.7', '2511.95', '4424.2', '5925.75', '4124.65', '1295.4', '528.35', '6713.2', '498.1', '1769.6', '3273.95', '5580.8', '1718.2', '33.2', '435.45', '6989.7', '55.8', '535.35', '85.15', '317.25', '826.1', '6751.35', '1336.8', '107.1', '520.95', '5163', '368.1', '469.8', '1887', '174.45', '46.4', '465.05', '38', '4904.85', '3452.55', '2365.15', '389.1', '5774.55', '7176.55', '3330.1', '286.8', '298.7', '682.15', '89.35', '6000.1', '74.35', '1322.85', '679.3', '1923.85', '445.85', '955.75', '8035.95', '706.6', '1471.75', '547.8', '587.1', '4113.1', '251.75', '303.15', '1096.6', '521.35', '5980.55', '5071.9', '4084.35', '1539.8', '1080.55', '784.45', '1189.4', '1403.1', '7843.55', '3822.45', '5029.2', '389.8', '786.5', '295.55', '3370.2', '1710.9', '1120.95', '846.8', '198.25', '370.4', '5293.95', '218.55', '7195.35', '279.25', '300.4', '551.3', '1660', '2209.15', '2203.7', '1818.3', '4546', '1563.95', '1125.2', '142.35', '3023.65', '533.6', '54.35', '5718.2', '1336.15', '4968', '5293.4', '337.9', '1395.05', '1315', '4527.45', '982.95', '161.15', '5038.45', '24.9', '4284.65', '1259', '3899.05', '8468.2', '3023.85', '365.8', '7173.15', '2879.9', '1511.2', '2549.1', '7544', '51.15', '2142.8', '2470.1', '7842.3', '71.2', '4510.8', '408.5', '63', '84.5', '155.65', '4667', '321.7', '1863.8', '2135.5', '74.5', '943.85', '750.1', '6856.45', '1655.35', '5629.15', '2200.25', '433.75', '1237.3', '108.7', '554.05', '74.9', '4680.05', '7159.05', '470.95', '374', '940.35', '1836.9', '2421.6', '918.75', '6281.45', '157.75', '4453.3', '1905.4', '239.75', '278.4', '331.6', '6383.9', '962.9', '1510.5', '1307.8', '5629.55', '1358.6', '1259.35', '249.4', '235.2', '3588.4', '4993.4', '903.7', '7610.1', '970.4', '3886.45', '600.15', '135.2', '291.45', '196.15', '5624.85', '251.65', '763.1', '6423', '327.45', '2568.55', '992.7', '7548.1', '1414.2', '69.7', '3255.35', '1022.5', '815.5', '2136.9', '434.1', '2424.45', '69.8', '2250.65', '153.05', '5676', '1350.15', '854.9', '1594.75', '731.3', '3375.9', '6039.9', '1156.55', '5826.65', '973.95', '645.8', '2191.15', '146.05', '761.85', '5000.05', '1509.9', '999.8', '172.35', '84.4', '1165.9', '112.3', '345.5', '1129.35', '3157', '830.7', '1194.3', '474.8', '3042.25', '69.65', '7101.5', '6164.7', '4547.25', '223.75', '78.3', '1574.45', '1185', '4070.95', '2813.05', '1710.15', '5118.95', '500.1', '483.7', '4454.25', '3342.45', '181.8', '405.7', '846', '212.3', '1193.05', '3482.85', '2499.3', '649.4', '246.3', '1540.05', '1174.35', '325.45', '246.5', '545.2', '19.6', '1724.15', '1334', '2440.15', '2514.5', '2879.2', '1051.05', '69.85', '2178.6', '369.15', '550.1', '4541.2', '2911.5', '1671.6', '5510.65', '81.1', '2762.75', '7245.9', '1859.5', '3027.65', '471.55', '226.45', '905.55', '1988.05', '635.6', '1782.4', '3950.85', '7467.55', '2111.45', '3030.6', '147.15', '1156.1', '433.5', '3419.5', '788.6', '613.95', '3000.25', '3283.05', '502.85', '1244.8', '734.35', '602.9', '580.1', '1745.5', '285.2', '3958.25', '1088.25', '6430.9', '711.95', '5315.8', '1713.1', '3915.4', '2110.15', '1789.25', '1500.5', '118.3', '2016.3', '4456.35', '7758.9', '96.45', '4861.45', '832.3', '2724.25', '6457.15', '5265.5', '2431.95', '52.2', '580.8', '3250.45', '6912.7', '342.3', '6858.9', '1992.55', '770.6', '3930.6', '1742.45', '170.9', '990.85', '179.25', '34.75', '967.9', '1549.75', '2978.3', '6367.2', '1715.65', '3321.35', '390.4', '1554', '906.85', '45.2', '1872.2', '917.15', '540.05', '5614.45', '316.9', '550.35', '417.65', '195.05', '4634.35', '2172.05', '599.3', '4024.2', '363.15', '6614.9', '100.9', '3862.55', '6094.25', '4445.3', '3454.6', '55.55', '24.75', '2234.55', '144.35', '2515.3', '804.85', '5016.65', '5034.05', '194.55', '5812', '890.5', '1902', '302.35', '360.1', '5480.25', '4693.2', '70.4', '4107.3', '281', '663.05', '2570.2', '232.1', '144.8', '637.55', '368.85', '6705.7', '1173.35', '5831.2', '1417.9', '94.15', '2816.65', '5275.8', '5961.1', '371.65', '457.3', '2586', '60', '174.7', '5037.55', '346.45', '159.2', '3734.25', '635.9', '387.4', '3902.6', '7714.65', '68.95', '324.3', '1020.75', '2215.45', '2723.15', '743.75', '99.95', '185.2', '7537.5', '93.7', '1676.95', '5236.4', '1326.35', '818.05', '2983.8', '2265.25', '1520.9', '476.8', '2901.8', '1326.25', '7346.2', '1058.6', '819.4', '2043.45', '1820.9', '2696.55', '2495.15', '2971.7', '6042.7', '7210.85', '1023.85', '1267.95', '4399.5', '8046.85', '439.2', '2649.15', '5588.8', '1971.15', '1849.2', '1875.25', '6643.5', '5841.35', '86', '2868.15', '44.9', '567.8', '4054.2', '3355.65', '413.25', '7250.15', '196.4', '130.5', '44.1', '3166.9', '956.65', '185.4', '7862.25', '4557.5', '3377.8', '3665.55', '2238.5', '4264.25', '828.85', '53.15', '3875.4', '362.6', '555.4', '2347.9', '790', '5779.6', '713.6', '4576.3', '3751.15', '19.8', '1033', '214.75', '809.25', '2862.75', '1964.6', '126.05', '470.6', '3770', '4287.2', '7898.45', '661.25', '94.6', '2697.4', '84.6', '5794.65', '5044.8', '188.7', '453.75', '220.1', '1905.7', '1679.65', '939.7', '1498.55', '171.45', '53.55', '969.85', '923.85', '330.6', '199.45', '6241.35', '1611.65', '2288.7', '4392.5', '1646.45', '180.3', '658.1', '3410', '2659.45', '1701.65', '605.9', '355.2', '381.3', '817.95', '1458.1', '1010', '195.65', '340.25', '535.05', '4464.8', '2724.6', '5969.3', '2308.6', '577.15', '1402.25', '720.05', '3687.85', '207.4', '5138.1', '40.9', '382.8', '764.95', '6503.2', '1118.8', '3983.6', '2281.6', '1054.8', '3096.9', '1983.15', '4733.1', '335.95', '5956.85', '762.45', '3623.95', '1647', '5551.15', '243.65', '4391.45', '255.25', '1968.1', '1061.6', '4902.8', '270.15', '1923.5', '3645.6', '4350.1', '647.5', '2272.8', '451.1', '270.95', '5686.4', '140.7', '70.7', '3187.65', '866.4', '5914.4', '8182.75', '75.55', '477.55', '1281.25', '1908.35', '323.25', '7009.5', '6914.95', '4532.3', '2011.4', '191.1', '1864.65', '1355.45', '265.75', '45.75', '36.8', '3838.2', '7076.35', '217.1', '4042.2', '3027.4', '6889.8', '1493.1', '4149.45', '685.55', '937.6', '920.5', '669.85', '6144.55', '6034.85', '168.5', '1381.2', '921.55', '242.95', '3112.05', '4687.9', '45.95', '791.75', '3237.05', '4671.7', '1673.4', '2357.75', '6342.7', '5083.55', '3440.25', '141.65', '3876.2', '244.1', '638.55', '2588.95', '2424.05', '3512.15', '3574.5', '2686.05', '2655.25', '4284.2', '4494.65', '45.8', '216.45', '8331.95', '3221.25', '4869.5', '3467', '2168.15', '1008.55', '6557.75', '870.25', '291.4', '59.25', '3653', '1212.85', '1311.75', '406.95', '4759.55', '2768.35', '6770.85', '2239.4', '335.75', '3082.1', '2030.75', '7467.5', '2896.6', '539.85', '1410.25', '90.05', '202.3', '160.75', '681.4', '7261.75', '3460.95', '102.5', '90.85', '8003.8', '759.55', '470', '237.2', '7875', '143.65', '47.7', '6989.45', '193.6', '1600.25', '3772.65', '945.7', '4370.25', '755.4', '95.1', '880.2', '3346.8', '8192.6', '865.1', '653.25', '617.65', '3919.15', '85.7', '6536.5', '5206.55', '75.7', '3994.05', '5894.5', '3923.8', '274.7', '5199.8', '3165.6', '1113.95', '1476.25', '1952.25', '2196.45', '1131.3', '2053.05', '4345', '733.35', '934.15', '4348.1', '692.1', '48.75', '4664.15', '102.75', '595.05', '6511.8', '149.05', '2633.4', '3409.6', '1664.3', '2871.5', '78.9', '6603.8', '2146.5', '3353.4', '1008.7', '3959.15', '649.65', '810.45', '3510.3', '2149.05', '221.9', '6465', '2536.55', '4884.85', '929.2', '4308.25', '3105.55', '1958.95', '6325.25', '6716.45', '6369.45', '1024.7', '3423.5', '493.95', '86.6', '1071.6', '5936.55', '3088.25', '827.7', '7856', '3893.6', '4719.75', '80.85', '131.65', '187.45', '4917.75', '3186.7', '6068.65', '7470.1', '874.2', '1133.65', '3014.65', '2621.75', '5043.2', '936.85', '1750.7', '5224.5', '6176.6', '1064.65', '298.35', '2596.15', '3418.2', '8022.85', '2628.6', '2495.2', '418.3', '907.05', '605.75', '5980.75', '270.6', '3990.6', '1266.4', '4193.4', '183.75', '3566.6', '4415.75', '5234.95', '8100.25', '755.6', '1539.75', '2929.75', '4473.45', '5329', '5396.25', '5295.7', '73.45', '1789.9', '5475.9', '7047.5', '1442.6', '2302.35', '367.95', '6487.2', '4297.6', '158.35', '1346.2', '1021.75', '125.5', '178.1', '24.2', '1522.65', '174.2', '1513.6', '732.5', '7555', '4664.5', '973.45', '4812.75', '105.6', '1761.45', '908.75', '3778', '4113.7', '452.2', '7665.8', '70.6', '7459', '6293.75', '35.75', '486.85', '3549.25', '678.2', '2162.6', '2298.55', '613.4', '272.95', '5568.35', '3027.25', '4174.35', '2483.05', '523.1', '79.6', '4946.7', '3475.55', '180.7', '3281.65', '4555.2', '875.35', '262.3', '548.9', '1719.15', '5229.8', '442.85', '2351.45', '101.45', '2257.75', '1739.6', '638.95', '1057.55', '1164.05', '3851.45', '7318.2', '7386.05', '139.25', '838.5', '258.35', '257.05', '868.5', '5610.15', '1049.05', '6529.25', '3965.05', '1461.45', '5200.8', '1375.6', '1431.65', '8443.7', '1336.9', '6994.8', '4641.1', '5542.55', '4820.15', '3953.15', '772.4', '851.2', '6547.7', '373.5', '2719.2', '4976.15', '533.9', '2033.85', '77.75', '2431.35', '697.7', '7142.5', '272.15', '41.85', '2157.3', '5595.3', '94.55', '113.35', '80.25', '5999.85', '419.4', '3251.85', '2874.15', '3021.45', '55.25', '7446.9', '6385.95', '353.65', '1174.8', '4507.15', '5440.9', '438.05', '1046.1', '916.9', '2199.05', '2453.3', '829.3', '1046.2', '265.8', '1453.1', '4853.75', '4458.15', '375.25', '734.6', '234.85', '775.6', '257', '1261.45', '6891.45', '223.9', '172.85', '35.1', '1529.2', '2209.75', '279.55', '554.45', '7472.15', '754.65', '2812.2', '216.75', '1855.65', '7049.75', '1889.5', '4245.55', '297.3', '5846.65', '2375.2', '2095', '482.25', '2033.05', '85.45', '1866.45', '1058.1', '143.9', '312.7', '228.75', '515.45', '1802.55', '765.15', '1302.65', '3795.45', '374.5', '2459.8', '68.2', '949.8', '20.95', '178.85', '1879.25', '644.5', '1737.45', '5070.4', '177.4', '4849.1', '670.65', '1187.05', '4916.4', '1039.45', '161.5', '6401.25', '130.25', '180.25', '5038.15', '1032', '1115.15', '96.05', '492.1', '3339.05', '865.75', '2723.75', '4718.25', '1253.65', '2032.3', '6929.4', '2259.35', '1725', '7657.4', '210.75', '5411.4', '5189.75', '60.15', '5154.5', '7412.25', '5646.6', '4013.8', '6563.4', '404.2', '77.5', '2845.15', '4220.35', '6895.5', '369.05', '3238.4', '973.65', '857.25', '1766.75', '978.6', '24', '880.05', '610.75', '5832.65', '93.45', '3729.6', '5435.6', '3954.1', '152.45', '68.45', '6416.7', '1299.1', '2633.95', '146.6', '6397.6', '302.75', '1253.8', '1500.25', '5481.25', '7365.7', '5502.55', '6669.05', '1898.1', '934.1', '7348.8', '3846.35', '1654.7', '697.25', '108.95', '494.95', '313.6', '1545.4', '3038.55', '6033.1', '8425.3', '1970.5', '938.95', '150.75', '2023.55', '260.7', '530.05', '408.25', '5357.75', '1304.8', '2839.45', '3808', '3103.25', '1210.3', '4134.7', '7553.6', '90.6', '1215.1', '5232.9', '4804.65', '7554.05', '757.95', '139.05', '5301.1', '2716.3', '1274.45', '5717.85', '3541.4', '419.35', '4014', '1115.6', '3035.35', '5432.2', '1875.55', '5618.3', '1689.45', '1834.15', '2243.9', '134.7', '228.4', '1215.45', '1170.5', '1114.85', '454.15', '892.7', '1955.4', '655.3', '1730.65', '4973.4', '2888.7', '1386.9', '552.9', '123.65', '1782.05', '5174.35', '4040.2', '38.25', '44.45', '2893.4', '163.2', '31.35', '519.15', '607.7', '2773.9', '365.35', '415.1', '6520.8', '888.65', '163.55', '1931.75', '1857.85', '69.4', '3161.2', '5563.65', '3772.5', '4888.7', '1115.2', '1567', '4534.45', '657.5', '168.15', '7112.15', '2823', '999.45', '2979.2', '1411.2', '2319.8', '4213.9', '1133.9', '56.25', '3128.8', '1505.85', '593.2', '8424.9', '5536.5', '3472.05', '147.8', '683.75', '587.7', '654.55', '79.35', '42.7', '4764', '1761.05', '1081.45', '930.05', '865', '684.85', '5553.25', '467.55', '1816.75', '1702.9', '1608.15', '1392.25', '1245.05', '1033.9', '1465.75', '3045.75', '7854.15', '1559.25', '97', '1959.5', '680.05', '1537.9', '2245.4', '7853.7', '109.5', '1687.95', '334.8', '2271.85', '3019.25', '96.85', '79.05', '219.35', '7609.75', '6880.85', '1160.45', '87.9', '6588.95', '862.4', '4473', '2188.5', '738.2', '4039', '6230.1', '4364.1', '3706.95', '3726.15', '3532.85', '2198.3', '1698.55', '7578.05', '2282.95', '779.2', '7990.05', '1367.75', '1340.1', '267', '1474.35', '654.85', '2184.85', '695.05', '4615.9', '4116.8', '6254.45', '5703', '2088.8', '29.9', '713.1', '802.35', '2277.65', '8476.5', '2966.95', '1940.85', '446.05', '716.4', '638', '360.55', '1470.95', '2276.95', '4131.2', '329.95', '1798.9', '440.2', '3744.05', '3204.4', '2755.35', '399.45', '3937.45', '1830.1', '5129.45', '314.45', '1240.25', '299.4', '2343.85', '899.45', '6998.95', '7240.65', '7397', '998.1', '415.55', '1433.8', '2894.55', '527.5', '1423.35', '1498.65', '7107', '488.25', '2535.55', '3691.2', '194.2', '849.1', '1234.6', '3292.3', '331.35', '436.9', '80.15', '1422.1', '4808.7', '3089.6', '2854.95', '3674.95', '1595.5', '6615.15', '505.9', '1515.1', '575.45', '2193', '5861.75', '2419.55', '384.5', '267.6', '279.3', '1082.75', '4919.7', '3414.65', '1755.35', '4819.75', '5243.05', '19.1', '830.8', '6237.05', '1378.25', '2215.4', '2564.95', '2094.9', '275.4', '607.3', '1429.65', '404.35', '518.75', '1198.05', '71.55', '44.35', '436.2', '44.15', '3975.7', '2274.1', '25.35', '3888.65', '119.3', '144.55', '4746.05', '235.5', '6519.75', '4166.35', '759.35', '2907.35', '4254.85', '6079', '4065', '1489.3', '426.35', '7114.25', '2627.35', '909.25', '4600.7', '100.2', '1859.1', '46.3', '814.75', '4126.2', '3134.7', '6347.55', '6109.65', '1579.7', '402.5', '692.55', '4753.85', '1783.6', '164.6', '3334.95', '217.55', '1502.65', '919.4', '2751', '6330.4', '4729.75', '1206.05', '1566.75', '1170.55', '1322.55', '357.6', '131.05', '958.1', '6841.45', '994.8', '497.6', '2884.9', '77.6', '4192.15', '2234.95', '7251.7', '6424.25', '2326.05', '5791.85', '996.85', '6671.7', '1226.45', '5460.2', '4484.05', '2479.25', '5224.95', '877.35', '7365.3', '173', '6302.85', '2619.25', '62.8', '117.8', '1406.9', '3160.55', '609.1', '6511.25', '5844.65', '2627.2', '5610.25', '543.8', '186.15', '2265', '5522.7', '1910.6', '5270.6', '1867.7', '507.4', '3871.85', '1783.75', '2405.05', '1195.25', '7880.25', '1045.25', '7752.05', '1730.35', '5386.5', '2587.7', '4925.35', '1620.2', '130.1', '7262', '7707.7', '2384.15', '2854.55', '29.95', '1776.55', '216.2', '2970.3', '4690.65', '1099.6', '819.55', '997.65', '896.9', '794.25', '4653.25', '7138.65', '130.75', '389.95', '3771.5', '6172', '704.3', '1070.25', '6613.65', '2545.75', '1363.45', '852.7', '3912.9', '811.8', '4179.2', '1049.6', '422.4', '107.25', '5903.15', '3029.1', '5645.8', '95.6', '232.35', '2094.65', '4586.15', '6328.7', '2122.45', '816.8', '2656.3', '6185.8', '1554.9', '1024', '78.8', '3047.15', '7447.7', '299.2', '107.05', '6411.25', '659.65', '3877.95', '5265.2', '4447.75', '5293.2', '3487.95', '73.6', '3207.55', '57.5', '5121.3', '2342.2', '238.5', '1540.2', '2660.2', '1288', '163.7', '6779.05', '6376.55', '1539.45', '2688.85', '68.5', '795.65', '4089.45', '4985.9', '485.2', '2320.8', '229.5', '855.1', '6975.25', '1846.65', '1394.55', '401.1', '521', '417.75', '5968.4', '586.05', '3941.7', '593.85', '5617.95', '1929.95', '7849.85', '789.2', '80.8', '374.8', '1916', '6365.35', '7030.65', '4003', '186.3', '7244.7', '4749.15', '91.4', '1398.25', '165.45', '1221.55', '255.5', '1155.6', '2201.75', '510.8', '754.5', '6129.2', '5031.85', '2878.75', '1971.5', '6056.15', '411.6', '1657.4', '1638.7', '2835.5', '109.3', '624.6', '350.35', '7110.75', '673.1', '780.85', '3068.6', '831.75', '2117.25', '294.95', '911.6', '615.35', '73.55', '3084.9', '4026.4', '1110.35', '80.95', '3094.65', '7679.65', '93.3', '3365.4', '1021.8', '4900.65', '688.2', '664.4', '2576.8', '78.25', '248.95', '1282.85', '2967.35', '1216.35', '3603.45', '394.1', '204.55', '1152.8', '679', '847.8', '5436.45', '1043.3', '3515.25', '2537', '4917.9', '3778.1', '690.25', '79.2', '4285.8', '3548.3', '2531.4', '1752.65', '934.8', '2979.3', '810.2', '1086.75', '1285.05', '4367.35', '5067.45', '1567.55', '1354.4', '5289.8', '864.55', '1672.1', '2291.2', '2208.05', '28.3', '2524.45', '966.25', '5124.55', '340.4', '4904.2', '2018.4', '50.5', '789.55', '7878.3', '1614.05', '4145.25', '1501.75', '1415.55', '6725.3', '1810.85', '892.15', '1440.75', '1156.35', '1209.25', '92.75', '1185.95', '4361.55', '612.1', '5623.7', '123.05', '308.05', '6227.5', '216.9', '2684.35', '2530.4', '167.2', '2416.1', '184.15', '1043.8', '6383.35', '5485.5', '3327.05', '341.35', '620.35', '8529.5', '43.85', '4872.45', '1688.9', '716.1', '5791.1', '6093.3', '30.55', '1423.05', '4323.45', '2344.5', '6418.9', '1686.85', '5420.65', '150.6', '245.15', '4759.85', '215.8', '3389.25', '2139.2', '2151.6', '1842.8', '4448.8', '1270.55', '4042.3', '1145.35', '50.55', '378.4', '4860.35', '5150.55', '1301', '1205.5', '2016.45', '1794.65', '5950.2', '3953.7', '290.55', '231.45', '3244.4', '6301.7', '43.3', '1332.4', '1003.05', '302.6', '7132.15', '541.15', '3078.1', '2351.8', '301.9', '346.4', '2908.2', '7104.2', '1219.85', '2933.95', '7181.95', '6435.25', '2220.1', '1181.75', '931.9', '7303.05', '6109.75', '1195.95', '1614.2', '4615.25', '5931.75', '4025.5', '63.6', '7171.7', '550.6', '1267.05', '1723.95', '5598.3', '2440.25', '2595.85', '4995.35', '1097.15', '3236.35', '386.5', '7634.8', '2301.15', '4932.5', '723.3', '958.15', '3624.35', '684.05', '5744.35', '5426.85', '3969.4', '1211.65', '21', '5921.35', '81.7', '1025.15', '64.55', '5785.5', '1821.2', '1288.75', '114.15', '1941.5', '356.1', '611.65', '467.85', '5586.45', '6859.5', '6819.45', '6428.4', '106.8', '3887.25', '1798.65', '1171.3', '1260.7', '6033.3', '111.05', '964.35', '6127.6', '1778.7', '1244.5', '4692.95', '534.7', '1758.6', '1874.45', '1505.45', '300.8', '61.35', '7297.75', '5064.85', '1616.15', '1990.5', '109.25', '4533.7', '5749.8', '1208.6', '4300.8', '1888.65', '3437.5', '573.15', '1432.55', '136.05', '1620.45', '95.65', '8248.5', '608.15', '678.45', '221.35', '665.45', '3646.8', '1530.6', '1208.15', '5461.45', '34.8', '5264.25', '3756.45', '2731', '3021.3', '48.95', '1422.65', '84.8', '641.15', '6223.8', '50.7', '1199.4', '4997.5', '1493.2', '365.4', '2433.9', '4549.45', '75.75', '3122.4', '4158.25', '2623.65', '648.65', '3902.45', '3580.3', '2710.25', '4577.75', '4984.85', '8436.25', '50.65', '1107.25', '3488.15', '1004.75', '54.3', '3615.6', '5931', '5459.2', '1776', '33.6', '5496.9', '384.25', '8196.4', '259.4', '1238.65', '454', '201.1', '137.1', '184.95', '1275.6', '1389.2', '1379.8', '1553.2', '1848.8', '955.6', '2789.7', '412.5', '2177.45', '4362.05', '5589.3', '5265.55', '768.05', '287.4', '3273.8', '76', '943', '3605.2', '6306.5', '1764.75', '1525.35', '1667.25', '4509.5', '2689.35', '2391.15', '109.2', '1140.05', '1787.35', '156.85', '762.1', '1327.4', '1412.65', '20.85', '2015.8', '3266', '1337.45', '4920.55', '6937.95', '2669.45', '119.75', '6586.85', '7806.5', '7475.1', '773.2', '6029.9', '7149.35', '556.35', '7168.25', '235.65', '1001.5', '1734.65', '357', '2338.35', '3208.65', '1732.95', '712.85', '2656.7', '7008.15', '43.15', '3457.45', '1033.95', '637.4', '305.55', '170.85', '3729.75', '2754', '625.05', '3395.8', '2369.7', '1622.45', '7922.75', '2210.2', '2347.85', '1027.25', '7028.5', '2019.8', '3297', '1478.85', '280.35', '4594.65', '417.7', '4040.65', '1387.35', '3512.9', '466.6', '154.55', '7795.95', '5643.4', '5549.4', '608.5', '4744.35', '1263.9', '6979.8', '864.85', '1359.5', '205.05', '1494.5', '741.4', '2407.3', '6602.9', '1566.9', '399.6', '1215.8', '847.3', '203.95', '218.5', '1914.5', '3173.35', '6096.9', '422.3', '5059.75', '4885.85', '950.75', '1597.4', '882.55', '1497.05', '4652.4', '1233.15', '3263.6', '2171.15', '4097.05', '1128.1', '1830.05', '1880.85', '3605.6', '6405', '1348.95', '3249.4', '283.95', '2647.2', '1345.65', '825.1', '606.25', '5315.1', '3590.2', '2015.35', '7774.05', '6976.75', '2847.2', '3264.45', '405.6', '3171.15', '3694.45', '162.3', '4414.3', '612.95', '1275.65', '2552.9', '4238.45', '3274.35', '1201.15', '3662.25', '1124.2', '235', '6368.2', '4230.25', '1663.75', '5012.35', '1311.3', '702.9', '4855.35', '5602.25', '1992.95', '617.15', '7711.25', '102.45', '2215', '6638.35', '1441.8', '6153.85', '755.5', '2390.45', '124.45', '4671.65', '7544.3', '827.3', '834.7', '6985.65', '7188.5', '1048.85', '100.8', '1706.45', '167.5', '62.9', '1563.9', '1686.15', '370.65', '772.85', '6444.05', '1505.35', '5714.25', '780.5', '156.4', '442.2', '1836.25', '2766.4', '819.95', '25.3', '527.35', '2188.45', '5703.25', '199.85', '54.5', '4155.95', '3969.35', '813.85', '50.45', '4188.4', '5500.6', '2460.15', '8041.65', '250.8', '486.05', '1743.9', '1297.35', '2462.6', '1993.8', '5073.1', '2688.45', '132.2', '2618.3', '90.55', '2088.45', '1391.15', '4689.5', '323.15', '229.4', '2296.25', '876.75', '1103.25', '396.3', '1046.5', '996.95', '1936.85', '6350.5', '19.15', '4069.9', '99.6', '49.75', '184.65', '1313.25', '7690.9', '436.6', '445.95', '411.15', '696.8', '987.95', '120.25', '590.35', '6735.05', '1630.4', '377.85', '589.25', '1222.65', '455.5', '2204.35', '159.35', '1790.6', '214.55', '301.4', '89.05', '4949.1', '2313.8', '493.65', '307.6', '129.15', '724.65', '97.5', '3769.7', '4481', '8375.05', '1867.6', '769.1', '279.2', '6707.15', '92.45', '198.5', '208.85', '2415.95', '853.1', '123.8', '1329.2', '1165.55', '6404', '3626.35', '273.2', '4760.3', '4965', '1438.05', '2404.1', '4862.5', '541.5', '6510.45', '5809.75', '878.35', '887.35', '480.75', '1134.25', '226.95', '3092', '6548.65', '827.45', '4859.1', '4236.6', '116.6', '49.8', '3581.4', '717.5', '662.95', '5099.15', '1200.15', '958.45', '1974.8', '2657.55', '994.55', '3861.45', '1423.65', '70.35', '326.8', '3357.9', '633.4', '5139.65', '1505.9', '6179.35', '255.55', '631.85', '4816.7', '4515.85', '3415.25', '4211.55', '321.65', '280', '1252.85', '633.3', '4616.05', '106.2', '3168', '1559.15', '6697.35', '1178.25', '84.65', '1729.35', '5442.05', '1454.25', '1235.55', '1288.3', '418.8', '1356.3', '5163.3', '1017.35', '1441.1', '7455.45', '4508.65', '58.3', '5031', '1148.1', '68.35', '412.6', '3264.5', '265.45', '1712.7', '7031.45', '2498.4', '358.5', '6004.85', '3959.35', '512.45', '6215.35', '5431.4', '324.25', '520.55', '323.45', '251.6', '1411.9', '5589.45', '936.7', '1573.7', '886.7', '5730.7', '7998.8', '2001', '8672.45', '5711.05', '6590.5', '4972.1', '231.8', '89.25', '6589.6', '104.2', '4224.7', '3369.05', '2793.55', '29.85', '260.8', '1653.45', '75.8', '538.2', '979.05', '3739.8', '151.8', '4512.7', '3008.55', '686.95', '1416.5', '8058.85', '871.4', '1520.1', '2221.55', '4368.85', '1413', '4735.2', '378.6', '1573.95', '1059.55', '2541.25', '97.1', '1338.15', '3833.95', '4824.45', '810.85', '111.65', '837.95', '2839.65', '5471.75', '369.25', '7432.05', '520.1', '3450.15', '1016.7', '330.8', '381.2', '2413.05', '4217.8', '1054.6', '3895.35', '1263.85', '1092.35', '226.8', '5585.4', '3539.25', '2497.35', '1857.25', '69.2', '1725.95', '3077', '6561.25', '7556.9', '2830.45', '1547.35', '176.3', '3201.55', '1614.7', '628.65', '3478.75', '3171.6', '1337.5', '1843.05', '2684.85', '127.1', '153.95', '3091.75', '1643.25', '3778.2', '4688.65', '3363.8', '5974.3', '385', '3829.75', '7040.85', '1424.9', '3824.2', '726.1', '1917.1', '237.3', '1341.5', '2647.1', '6398.05', '1810.55', '5264.5', '2599.95', '4029.95', '1205.05', '1108.6', '7251.9', '2452.7', '5637.85', '4549.05', '150.35', '1344.5', '7129.45', '3198.6', '3094.05', '40.1', '2954.5', '6292.7', '1529.45', '297.35', '415.05', '961.4', '857.8', '2974.5', '743.3', '6396.45', '3627.3', '45.35', '1325.85', '438.25', '144.15', '94.45', '6981.35', '6843.15', '629.55', '3007.25', '1304.85', '3066.45', '3107.3', '1527.5', '232.4', '856.65', '3480.35', '1742.95', '4138.7', '4784.45', '1238.45', '54.7', '5895.45', '4599.15', '1840.75', '574.5', '921.4', '1299.8', '1188.2', '1421.75', '1345.75', '100.4', '4326.8', '1081.25', '409.9', '393.15', '2877.95', '684.4', '217.5', '166.3', '5825.5', '7320.9', '217.45', '4807.35', '1934.45', '2263.45', '1553.9', '3966.3', '3597.5', '3641.5', '1857.3', '156.25', '494.9', '1778.5', '44.65', '1261', '129.6', '1254.7', '35.85', '4525.8', '1066.9', '4720', '4674.55', '1308.4', '3581.6', '6668.35', '1882.8', '1007.9', '3725.5', '6362.35', '720.1', '1436.95', '220.75', '5552.05', '146.4', '72.4', '4740', '839.65', '3046.05', '1868.4', '1293.8', '5727.15', '1117.55', '1242.25', '5594', '80.3', '475', '352.65', '434.8', '552.95', '1195.75', '660.05', '4265', '4905.75', '7839.85', '1813.1', '3541.1', '2555.9', '1020.2', '1683.7', '8244.3', '2354.8', '293.65', '6721.6', '1218.65', '889.9', '4039.5', '705.45', '383.55', '3003.55', '244.45', '3109.9', '3233.85', '134.5', '1982.1', '1747.2', '1559.45', '5798.3', '568.2', '553.4', '110.15', '2119.5', '1292.6', '6130.85', '5930.05', '6075.9', '4889.3', '83.75', '397', '1797.75', '2282.55', '551.35', '1859.2', '3565.65', '1838.15', '1611.15', '1151.55', '632.95', '659.45', '3529.95', '2386.85', '332.5', '1683.6', '4965.1', '5708.2', '222.65', '39.8', '369.1', '5835.5', '712.75', '708.8', '1217.25', '3838.75', '8425.15', '6382.55', '4738.85', '2293.6', '2379.1', '4138.05', '1147.45', '422.5', '4275.75', '7748.75', '1424.6', '8016.6', '2341.5', '5231.3', '4589.85', '1716.45', '4888.2', '4055.5', '6991.9', '1699.15', '1245.6', '306.05', '2345.55', '563.5', '4060.9', '1031.4', '3425.35', '70.55', '146.3', '4931.8', '79.65', '762.5', '3465.05', '5632.55', '2287.25', '1483.25', '49.85', '6496.15', '7181.25', '799.65', '446.1', '490.65', '2545.7', '419.7', '828.2', '7737.55', '183.15', '225.85', '5769.6', '2427.1', '659.35', '265.35', '211.95', '6891.4', '181.1', '811.65', '7413.55', '5681.1', '1777.6', '428.7', '1093.4', '4541.9', '3883.3', '396.1', '1108.2', '5443.65', '2737.05', '6132.7', '1001.2', '2193.2', '1013.35', '7565.35', '565.35', '946.95', '449.3', '4284.8', '2483.5', '284.9', '3684.95', '255.6', '6065.3', '604.7', '1090.1', '514.6', '5166.2', '311.6', '451.55', '4299.95', '5924.4', '1734.2', '1014.25', '125', '2730.85', '93.85', '51.6', '5347.95', '6869.7', '1747.85', '425.1', '458.1', '701.3', '1286', '3708.4', '1679.25', '3055.5', '5265.1', '82.15', '1105.4', '3952.65', '452.55', '689.35', '6859.05', '4154.8', '4109', '2625.55', '593.75', '159.45', '4487.3', '438', '4921.2', '2897.95', '2075.1', '1022.95', '533.5', '6688.95', '1137.05', '7804.15', '6126.1', '1404.65', '4732.35', '571.15', '903.6', '5498.2', '8306.05', '2006.95', '916.15', '7493.05', '833.55', '4303.65', '266.95', '6058.95', '1004.35', '1258.35', '2130.45', '2490.15', '828.05', '1652.95', '1738.9', '2540.1', '793.55', '5692.65', '1500.95', '498.25', '196.95', '5552.5', '3996.8', '1399.35', '1871.85', '1336.35', '2692.75', '392.5', '1581.2', '385.55', '997.75', '941', '237.75', '3399.85', '246.6', '6925.9', '47.5', '1370.35', '7658.3', '356.65', '21.05', '3361.05', '5253.95', '597.9', '1184', '4913.3', '800.3', '1328.35', '47.95', '2931', '1700.9', '1138.8', '2638.1', '168.65', '4519.5', '7982.5', '5229.45', '3522.65', '2494.65', '463.6', '3921.1', '299.3', '1930.9', '1023.75', '525', '4533.9', '785.75', '947.4', '3557.7', '2964', '4299.2', '314.95', '1180.95', '914.3', '4811.6', '484.05', '3618.7', '1225.65', '90.35', '5017.7', '1597.05', '45', '660.9', '1423.85', '306.6', '6309.65', '4388.4', '6754.35', '3956.7', '1079.05', '71.65', '1952.8', '5611.7', '3384', '284.3', '174.65', '5193.2', '2448.75', '1193.55', '3480', '6185.15', '1236.15', '3131.8', '3058.3', '6733.15', '835.15', '2208.75', '250.1', '4136.4', '394.85', '5817', '4903.15', '1423.15', '93.4', '6322.1', '5196.1', '2568.15', '5567.45', '1032.05', '6767.1', '189.2', '3373.4', '1305.95', '2070.6', '198.6', '1790.35', '990.9', '318.9', '5224.35', '50.05', '113.55', '861.85', '1434.6', '8405', '369.3', '1495.1', '356.15', '914.4', '1094.35', '3616.25', '6885.75', '1253.15', '5497.05', '5237.4', '5528.9', '842.25', '461.7', '318.5', '2227.8', '1411.65', '7111.3', '2421.75', '2820.65', '1424.5', '3673.15', '401.85', '1308.1', '806.95', '3246.45', '707.5', '8332.15', '1147.85', '1345.55', '1025.95', '1345.85', '6300.15', '1102.4', '632.2', '206.15', '1112.3', '1521.2', '3403.4', '4264.6', '3420.5', '5068.05', '1625', '7388.45', '331.3', '1612.2', '4178.65', '2165.05', '7317.1', '6141.65', '1893.5', '2768.65', '294.9', '351.55', '746.05', '79.1', '6440.25', '535.55', '3260.1', '749.35', '4523.25', '3090.65', '6555.2', '548.8', '4551.5', '3921.3', '249.95', '8399.15', '454.65', '2802.3', '4783.5', '31.9', '313', '679.55', '232.5', '4492.9', '20.7', '3217.55', '512.25', '4146.05', '1652.4', '2934.3', '2542.45', '4176.7', '1424.2', '3650.35', '8277.05', '1221.65', '3901.25', '5154.6', '4391.25', '7220.35', '4871.05', '927.35', '6954.15', '299.7', '165', '1626.05', '5601.4', '771.95', '6130.95', '4018.35', '672.7', '118.5', '6441.4', '1264.2', '101.65', '4869.35', '7159.7', '148.05', '6096.45', '1800.05', '30.2', '2790.65', '8164.1', '3379.25', '2062.15', '2356.75', '118.4', '209.1', '5916.95', '1023.9', '3974.15', '1692.6', '74', '1958.45', '6161.9', '2425.4', '51.25', '2841.55', '527.9', '1042.65', '4331.4', '44.8', '1011.5', '7689.8', '6055.55', '4186.3', '3320.6', '1188.25', '62', '319.6', '2995.45', '6518.35', '839.4', '347.25', '223.45', '5574.35', '1793.25', '1123.15', '1316.9', '3089.1', '2078.55', '1825.5', '568.85', '668.85', '2882.25', '2196.15', '424.75', '78.95', '219', '1620.25', '2258.25', '429.55', '101.9', '1319.95', '357.7', '4750.95', '1874.3', '1378.75', '2433.5', '6585.2', '6382', '1167.6', '3085.35', '4982.5', '4398.15', '583.3', '5564.85', '6311.2', '1093.1', '1797.1', '403.35', '6725.5', '3410.6', '708.2', '39.65', '350.1', '1574.5', '521.3', '532.1', '3177.25', '4063', '4801.1', '1776.95', '5985.75', '245.2', '593.05', '790.7', '966.55', '3242.5', '1029.75', '103.7', '159.15', '1677.85', '1388', '585.95', '7372.65', '7325.1', '2538.05', '546.85', '4863.85', '3204.65', '2429.1', '3794.5', '6393.65', '4113.15', '80.05', '3887.85', '8065.65', '141.45', '668.4', '1298.7', '3653.35', '1162.85', '1985.15', '3582.4', '2964.05', '5763.3', '7281.6', '1837.7', '8012.75', '1451.9', '1237.65', '903.8', '689.75', '1004.5', '830.85', '475.7', '3713.95', '2979.5', '2896.4', '6297.65', '401.3', '1745.2', '169.05', '3043.7', '8564.75', '3320.75', '2779.5', '5746.75', '1055.9', '700.85', '754', '329.75', '313.45', '7133.45', '25', '868.1', '1309.15', '309.1', '7711.45', '951.55', '1669.4', '108.65', '1364.75', '6744.2', '4566.5', '435.25', '52.05', '4664.2', '2427.35', '3019.5', '7919.8', '784.25', '1161.75', '1359.7', '7053.35', '2187.55', '2513.5', '1082.8', '803.3', '5233.25', '5127.95', '255.35', '152.7', '4837.6', '1573.05', '3131.55', '2933.2', '44.95', '4162.05', '970.85', '1261.7', '5535.8', '157.55', '469.85', '930.95', '452.35', '1303.5', '765.45', '411.25', '1756.6', '646.85', '8310.55', '235.1', '197.4', '6688.1', '2096.1', '851.8', '2673.45', '6823.4', '8477.6', '74.1', '2718.3', '4577.9', '18.85', '50.35', '1393.6', '488.65', '58.9', '3035.8', '1047.7', '387.7', '7629.85', '3858.05', '2907.55', '3313.4', '2108.35', '3617.1', '185.6', '359.4', '237.25', '3460.3', '152.95', '7209', '2570', '161.65', '7840.6', '872.65', '5680.9', '53.05', '2018.1', '739.9', '537.35', '191.35', '162.55', '1597.25', '1581.95', '7227.45', '3645.75', '7752.3', '4068', '805.1', '291.9', '6126.15', '2283.15', '2928.5', '1233.65', '1182.55', '5763.15', '1763.55', '926', '1856.4', '777.35', '4729.3', '1406', '7881.2', '5215.25', '2021.35', '6538.45', '4669.2', '6014.85', '1212.25', '2753.8', '1505.05', '740.55', '7299.65', '493.4', '999.9', '1415', '389.6', '1249.25', '5610.7', '1451.6', '3116.15', '899.8', '4914.8', '225.55', '5555.3', '2419', '5750', '6001.45', '2092.9', '8093.15', '2603.95', '5655.45', '1806.35', '2249.1', '676.7', '4267.15', '1274.05', '5878.9', '24.45', '37.2', '2034.25', '1190.5', '4941.8', '5515.8', '2958.95', '1319.85', '3019.7', '116.85', '1753', '4451.85', '4594.95', '736.8', '1821.95', '4495.65', '827.05', '1012.4', '1454.15', '3326.2', '973.25', '2361.8', '1146.05', '587.4', '3211.2', '781.25', '2264.05', '1777.9', '496.9', '3571.6', '4786.15', '2959.8', '706.85', '2443.3', '2774.55', '450.8', '4059.85', '4805.3', '1531.4', '4318.35', '6083.1', '24.6', '284.35', '424.5', '292.8', '4459.8', '770.4', '151.65', '8124.2', '701.05', '305.1', '4754.3', '76.45', '5916.45', '413.65', '935.9', '5064.45', '2653.65', '4309.55', '1704.95', '1078.75', '8166.8', '2274.9', '189.1', '169.45', '735.5', '308.7', '1130', '86.35', '5647.95', '2025.1', '4326.25', '3413.25', '2007.85', '896.75', '3139.8', '2869.85', '4480.7', '6697.2', '4845.4', '8312.75', '94', '79.95', '820.5', '210.3', '2654.05', '2134.3', '717.3', '518.3', '1203.9', '159.4', '2681.15', '335.4', '1533.8', '1358.85', '6640.7', '485.25', '1673.8', '6151.9', '1665.2', '486.2', '5194.05', '176.2', '6373.1', '116.95', '8240.85', '2727.8', '2006.1', '4428.6', '1346.9', '3857.1', '4991.5', '4830.25', '2322.85', '1601.2', '2460.35', '309.4', '1654.6', '1943.9', '73.05', '223.6', '662.65', '2656.5', '1070.5', '3483.45', '1750.85', '288.35', '3715.65', '933.3', '739.35', '5919.35', '3882.3', '1931.3', '320.4', '3990.75', '950.2', '5036.9', '5757.2', '581.85', '631.4', '1678.05', '221.1', '6838.6', '1400.3', '6689', '7069.25', '4730.9', '268.35', '2236.2', '4627.85', '4131.95', '1639.3', '446.8', '6293.2', '756.4', '4554.85', '1426.4', '341.45', '1790.8', '4904.25', '1207', '6045.9', '1178.4', '237.7', '4478.85', '76.2', '3457.9', '943.1', '44.7', '2848.45', '990.45', '6155.4', '206.6', '2447.95', '461.3', '3419.3', '2083.1', '3161.6', '5012.1', '1654.45', '892.65', '7953.25', '5600.15', '5705.05', '5731.45', '8061.5', '824.85', '5437.75', '5661.7', '6841.4', '71.15', '4872.35', '6595.9', '551.95', '3541.35', '1527.35', '6273.4', '786.3', '970.55', '4456.65', '161.95', '4804.75', '4820.55', '2835.9', '1268.85', '3005.8', '928.4', '1191.2', '1048.45', '92.5', '931.75', '1149.65', '3190.25', '700.45', '252.75', '1779.95', '2212.55', '40.2', '2156.25', '6254.2', '720.45', '1765.95', '1612.75', '29.7', '2335.3', '1242.2', '608', '5979.7', '679.8', '595.5', '1356.7', '51.2', '4233.95', '5375.15', '6019.35', '465.85', '897.75', '483.15', '4747.65', '6565.85', '1588.7', '2076.05', '7283.25', '1312.15', '1126.35', '1054.75', '365.65', '4459.15', '2597.6', '6549.45', '6962.85', '6252.9', '92.25', '2838.7', '171', '222.3', '3369.25', '3687.75', '324.15', '1043.35', '1980.3', '1165.6', '879.8', '6794.75', '1022.6', '6460.55', '2479.05', '2911.8', '1385.85', '2866.45', '2566.5', '70.2', '2642.05', '2441.7', '3097.2', '240.45', '5940.85', '412.55', '2444.25', '433.95', '507.9', '813.3', '7074.4', '952.3', '1275.85', '3645.05', '110.05', '677.9', '137.25', '2723.4', '229.7', '8086.4', '49.7', '1328.15', '241.3', '653.95', '6056.9', '295.65', '973.1', '3046.15', '471.35', '963.95', '5769.75', '1617.5', '5125.5', '7051.95', '4400.75', '1519', '49.25', '1172.95', '117.05', '1816.2', '2796.45', '1842.7', '5728.55', '4449.75', '8129.3', '4159.45', '514', '1036.75', '3973.2', '4916.95', '1740.7', '2997.45', '3946.9', '4156.8', '616.9', '32.7', '3649.6', '2230.85', '826', '4056.75', '4793.8', '815.55', '6910.3', '788.55', '144', '18.9', '2511.3', '2333.05', '5025', '53.95', '918.7', '106.55', '923.5', '3219.75', '8670.1', '522.35', '6038.55', '79.8', '5317.8', '450.65', '2276.1', '73.5', '927.65', '3306.85', '1388.75', '339.9', '3213.75', '587.45', '387.2', '1057.85', '307', '2625.25', '4891.5', '5311.85', '63.15', '797.25', '2309.55', '3807.35', '6223.3', '5822.3', '2683.2', '6782.15', '1790.65', '336.7', '3024.15', '3914.05', '4014.2', '8594.4', '147.5', '2192.9', '5484.4', '3810.8', '150.85', '562.7', '692.35', '1070.7', '937.1', '153.8', '1615.1', '1374.2', '3994.45', '465.45', '7887.25', '4748.7', '845.6', '2082.95', '3532.25', '1050.5', '316.2', '2575.45', '501', '6860.6', '2576.2', '3827.9', '55.45', '4282.4', '5727.45', '666.75', '4016.2', '1275.7', '2919.85', '3474.45', '4016.75', '7491.75', '242.05', '239', '1851.45', '1912.85', '463.05', '7475.85', '4590.35', '309.35', '809.75', '310.6', '7459.05', '228', '4346.4', '1861.1', '673.2', '7806.6', '566.1', '2010.55', '8075.35', '1532.45', '418.25', '1183.2', '2339.3', '472.25', '1743.5', '171.15', '4264', '1373', '78.45', '1662.05', '3845.45', '832.35', '672.2', '1327.85', '7383.7', '250.05', '3640.45', '2896.55', '3517.9', '2475.35', '1826.7', '2381.55', '6256.2', '916', '5981.65', '1948.35', '4327.5', '3275.15', '2044.95', '1072', '8547.15', '5468.45', '552.1', '94.5', '1516.6', '2473.95', '215.25', '5611.75', '1287.85', '804.25', '6668', '2658.4', '865.8', '5060.85', '2664.3', '1074.3', '3013.05', '487.95', '1559.3', '4263.4', '1372.9', '7517.7', '7382.25', '2030.3', '1725.4', '790.15', '367.55', '4111.35', '129.55', '3625.2', '1517.5', '4871.45', '6171.2', '856.5', '4018.05', '633.45', '742.9', '4627.65', '3707.6']}\n"
     ]
    }
   ],
   "source": [
    "for nmColuna in df.columns:\n",
    "    print(getValoresCelulas(df, nmColuna))"
   ]
  },
  {
   "cell_type": "code",
   "execution_count": 225,
   "id": "5f2d2eb1",
   "metadata": {},
   "outputs": [
    {
     "data": {
      "text/plain": [
       "customerID\n",
       "0002-ORFBO    False\n",
       "0003-MKNFE    False\n",
       "0004-TLHLJ    False\n",
       "0011-IGKFF    False\n",
       "0013-EXCHZ    False\n",
       "              ...  \n",
       "9987-LUTYD    False\n",
       "9992-RRAMN    False\n",
       "9992-UJOEL    False\n",
       "9993-LHIEB    False\n",
       "9995-HOTOH    False\n",
       "Name: Charges_Monthly, Length: 7267, dtype: bool"
      ]
     },
     "execution_count": 225,
     "metadata": {},
     "output_type": "execute_result"
    }
   ],
   "source": [
    "df['Charges_Monthly'].isna()"
   ]
  },
  {
   "cell_type": "code",
   "execution_count": 226,
   "id": "4ca3133b",
   "metadata": {},
   "outputs": [
    {
     "data": {
      "text/plain": [
       "Index(['churn', 'gender', 'seniorcitizen', 'partner', 'dependents', 'tenure',\n",
       "       'phoneservice', 'multiplelines', 'internetservice', 'onlinesecurity',\n",
       "       'onlinebackup', 'deviceprotection', 'techsupport', 'streamingtv',\n",
       "       'streamingmovies', 'contract', 'paperlessbilling', 'paymentmethod',\n",
       "       'charges_monthly', 'charges_total'],\n",
       "      dtype='object')"
      ]
     },
     "execution_count": 226,
     "metadata": {},
     "output_type": "execute_result"
    }
   ],
   "source": [
    "df.columns.str.lower()"
   ]
  },
  {
   "cell_type": "code",
   "execution_count": 227,
   "id": "af101332",
   "metadata": {},
   "outputs": [
    {
     "data": {
      "text/plain": [
       "Index(['churn', 'gender', 'seniorcitizen', 'partner', 'dependents', 'tenure',\n",
       "       'phoneservice', 'multiplelines', 'internetservice', 'onlinesecurity',\n",
       "       'onlinebackup', 'deviceprotection', 'techsupport', 'streamingtv',\n",
       "       'streamingmovies', 'contract', 'paperlessbilling', 'paymentmethod',\n",
       "       'charges_monthly', 'charges_total'],\n",
       "      dtype='object')"
      ]
     },
     "execution_count": 227,
     "metadata": {},
     "output_type": "execute_result"
    }
   ],
   "source": [
    "df.columns.str.lower().str.replace(' ','_')"
   ]
  },
  {
   "cell_type": "code",
   "execution_count": 228,
   "id": "d2186432",
   "metadata": {},
   "outputs": [],
   "source": [
    "df.columns = df.columns.str.lower().str.replace(' ','_')"
   ]
  },
  {
   "cell_type": "code",
   "execution_count": 229,
   "id": "0ee1bb7a",
   "metadata": {},
   "outputs": [
    {
     "data": {
      "text/html": [
       "<div>\n",
       "<style scoped>\n",
       "    .dataframe tbody tr th:only-of-type {\n",
       "        vertical-align: middle;\n",
       "    }\n",
       "\n",
       "    .dataframe tbody tr th {\n",
       "        vertical-align: top;\n",
       "    }\n",
       "\n",
       "    .dataframe thead th {\n",
       "        text-align: right;\n",
       "    }\n",
       "</style>\n",
       "<table border=\"1\" class=\"dataframe\">\n",
       "  <thead>\n",
       "    <tr style=\"text-align: right;\">\n",
       "      <th></th>\n",
       "      <th>churn</th>\n",
       "      <th>gender</th>\n",
       "      <th>seniorcitizen</th>\n",
       "      <th>partner</th>\n",
       "      <th>dependents</th>\n",
       "      <th>tenure</th>\n",
       "      <th>phoneservice</th>\n",
       "      <th>multiplelines</th>\n",
       "      <th>internetservice</th>\n",
       "      <th>onlinesecurity</th>\n",
       "      <th>onlinebackup</th>\n",
       "      <th>deviceprotection</th>\n",
       "      <th>techsupport</th>\n",
       "      <th>streamingtv</th>\n",
       "      <th>streamingmovies</th>\n",
       "      <th>contract</th>\n",
       "      <th>paperlessbilling</th>\n",
       "      <th>paymentmethod</th>\n",
       "      <th>charges_monthly</th>\n",
       "      <th>charges_total</th>\n",
       "    </tr>\n",
       "    <tr>\n",
       "      <th>customerID</th>\n",
       "      <th></th>\n",
       "      <th></th>\n",
       "      <th></th>\n",
       "      <th></th>\n",
       "      <th></th>\n",
       "      <th></th>\n",
       "      <th></th>\n",
       "      <th></th>\n",
       "      <th></th>\n",
       "      <th></th>\n",
       "      <th></th>\n",
       "      <th></th>\n",
       "      <th></th>\n",
       "      <th></th>\n",
       "      <th></th>\n",
       "      <th></th>\n",
       "      <th></th>\n",
       "      <th></th>\n",
       "      <th></th>\n",
       "      <th></th>\n",
       "    </tr>\n",
       "  </thead>\n",
       "  <tbody>\n",
       "    <tr>\n",
       "      <th>0002-ORFBO</th>\n",
       "      <td>No</td>\n",
       "      <td>Female</td>\n",
       "      <td>0</td>\n",
       "      <td>Yes</td>\n",
       "      <td>Yes</td>\n",
       "      <td>9</td>\n",
       "      <td>Yes</td>\n",
       "      <td>No</td>\n",
       "      <td>DSL</td>\n",
       "      <td>No</td>\n",
       "      <td>Yes</td>\n",
       "      <td>No</td>\n",
       "      <td>Yes</td>\n",
       "      <td>Yes</td>\n",
       "      <td>No</td>\n",
       "      <td>One year</td>\n",
       "      <td>Yes</td>\n",
       "      <td>Mailed check</td>\n",
       "      <td>65.6</td>\n",
       "      <td>593.3</td>\n",
       "    </tr>\n",
       "    <tr>\n",
       "      <th>0003-MKNFE</th>\n",
       "      <td>No</td>\n",
       "      <td>Male</td>\n",
       "      <td>0</td>\n",
       "      <td>No</td>\n",
       "      <td>No</td>\n",
       "      <td>9</td>\n",
       "      <td>Yes</td>\n",
       "      <td>Yes</td>\n",
       "      <td>DSL</td>\n",
       "      <td>No</td>\n",
       "      <td>No</td>\n",
       "      <td>No</td>\n",
       "      <td>No</td>\n",
       "      <td>No</td>\n",
       "      <td>Yes</td>\n",
       "      <td>Month-to-month</td>\n",
       "      <td>No</td>\n",
       "      <td>Mailed check</td>\n",
       "      <td>59.9</td>\n",
       "      <td>542.4</td>\n",
       "    </tr>\n",
       "    <tr>\n",
       "      <th>0004-TLHLJ</th>\n",
       "      <td>Yes</td>\n",
       "      <td>Male</td>\n",
       "      <td>0</td>\n",
       "      <td>No</td>\n",
       "      <td>No</td>\n",
       "      <td>4</td>\n",
       "      <td>Yes</td>\n",
       "      <td>No</td>\n",
       "      <td>Fiber optic</td>\n",
       "      <td>No</td>\n",
       "      <td>No</td>\n",
       "      <td>Yes</td>\n",
       "      <td>No</td>\n",
       "      <td>No</td>\n",
       "      <td>No</td>\n",
       "      <td>Month-to-month</td>\n",
       "      <td>Yes</td>\n",
       "      <td>Electronic check</td>\n",
       "      <td>73.9</td>\n",
       "      <td>280.85</td>\n",
       "    </tr>\n",
       "  </tbody>\n",
       "</table>\n",
       "</div>"
      ],
      "text/plain": [
       "           churn  gender  seniorcitizen partner dependents  tenure  \\\n",
       "customerID                                                           \n",
       "0002-ORFBO    No  Female              0     Yes        Yes       9   \n",
       "0003-MKNFE    No    Male              0      No         No       9   \n",
       "0004-TLHLJ   Yes    Male              0      No         No       4   \n",
       "\n",
       "           phoneservice multiplelines internetservice onlinesecurity  \\\n",
       "customerID                                                             \n",
       "0002-ORFBO          Yes            No             DSL             No   \n",
       "0003-MKNFE          Yes           Yes             DSL             No   \n",
       "0004-TLHLJ          Yes            No     Fiber optic             No   \n",
       "\n",
       "           onlinebackup deviceprotection techsupport streamingtv  \\\n",
       "customerID                                                         \n",
       "0002-ORFBO          Yes               No         Yes         Yes   \n",
       "0003-MKNFE           No               No          No          No   \n",
       "0004-TLHLJ           No              Yes          No          No   \n",
       "\n",
       "           streamingmovies        contract paperlessbilling     paymentmethod  \\\n",
       "customerID                                                                      \n",
       "0002-ORFBO              No        One year              Yes      Mailed check   \n",
       "0003-MKNFE             Yes  Month-to-month               No      Mailed check   \n",
       "0004-TLHLJ              No  Month-to-month              Yes  Electronic check   \n",
       "\n",
       "            charges_monthly charges_total  \n",
       "customerID                                 \n",
       "0002-ORFBO             65.6         593.3  \n",
       "0003-MKNFE             59.9         542.4  \n",
       "0004-TLHLJ             73.9        280.85  "
      ]
     },
     "execution_count": 229,
     "metadata": {},
     "output_type": "execute_result"
    }
   ],
   "source": [
    "df.head(3)"
   ]
  },
  {
   "cell_type": "code",
   "execution_count": 230,
   "id": "5fd792ea",
   "metadata": {},
   "outputs": [
    {
     "data": {
      "text/plain": [
       "array(['No', 'Yes', ''], dtype=object)"
      ]
     },
     "execution_count": 230,
     "metadata": {},
     "output_type": "execute_result"
    }
   ],
   "source": [
    "df.churn.unique()"
   ]
  },
  {
   "cell_type": "code",
   "execution_count": 231,
   "id": "7142124d",
   "metadata": {},
   "outputs": [
    {
     "data": {
      "text/plain": [
       "array(['No', 'Yes', ''], dtype=object)"
      ]
     },
     "execution_count": 231,
     "metadata": {},
     "output_type": "execute_result"
    }
   ],
   "source": [
    "df['churn'].unique()"
   ]
  },
  {
   "cell_type": "markdown",
   "id": "c79adbc4",
   "metadata": {},
   "source": [
    "### 🔧 **(ETL fase 04) - Tratando as Inconsistências nos Dados:**"
   ]
  },
  {
   "cell_type": "markdown",
   "id": "31bf7568",
   "metadata": {},
   "source": [
    "Primeiro antes de criar a coluna \"Contas Diárias\" pedida no Challenge, excluirei alguns valores inválidos dentro do dataframe.\n",
    "- Antes de converter valores aos tipos *np.float64*, *string*, *etc*; irei verificar valores inadequados, como strings vazias ou NaN.\n",
    "- Feito isso, faço a conversão dos tipos."
   ]
  },
  {
   "cell_type": "code",
   "execution_count": 238,
   "id": "406b8c52",
   "metadata": {},
   "outputs": [
    {
     "data": {
      "text/plain": [
       "False"
      ]
     },
     "execution_count": 238,
     "metadata": {},
     "output_type": "execute_result"
    }
   ],
   "source": [
    "# Testes iniciais:\n",
    "\n",
    "a = df['churn'].isin(['Yes']).sum()\n",
    "b = df['churn'].isin(['No']).sum()\n",
    "(a + b) == len(df['churn'])"
   ]
  },
  {
   "cell_type": "code",
   "execution_count": 239,
   "id": "6e69fb29",
   "metadata": {},
   "outputs": [
    {
     "data": {
      "text/plain": [
       "7043"
      ]
     },
     "execution_count": 239,
     "metadata": {},
     "output_type": "execute_result"
    }
   ],
   "source": [
    "a + b"
   ]
  },
  {
   "cell_type": "code",
   "execution_count": 240,
   "id": "2af5d045",
   "metadata": {},
   "outputs": [
    {
     "data": {
      "text/plain": [
       "7043"
      ]
     },
     "execution_count": 240,
     "metadata": {},
     "output_type": "execute_result"
    }
   ],
   "source": [
    "selecao_churn1 = df['churn'] == 'Yes'\n",
    "selecao_churn2 = df['churn'] == 'No'\n",
    "len(df[selecao_churn1]) + \\\n",
    "len(df[selecao_churn2]) "
   ]
  },
  {
   "cell_type": "code",
   "execution_count": 243,
   "id": "5910f174",
   "metadata": {},
   "outputs": [
    {
     "data": {
      "text/plain": [
       "7043"
      ]
     },
     "execution_count": 243,
     "metadata": {},
     "output_type": "execute_result"
    }
   ],
   "source": [
    "c = df['churn'].isin(['Yes','No']).sum()\n",
    "c"
   ]
  },
  {
   "cell_type": "code",
   "execution_count": 244,
   "id": "37e0c535",
   "metadata": {},
   "outputs": [
    {
     "data": {
      "text/plain": [
       "True"
      ]
     },
     "execution_count": 244,
     "metadata": {},
     "output_type": "execute_result"
    }
   ],
   "source": [
    "c < len(df)"
   ]
  },
  {
   "cell_type": "code",
   "execution_count": 245,
   "id": "56cca4de",
   "metadata": {},
   "outputs": [
    {
     "data": {
      "text/plain": [
       "churn\n",
       "No     5174\n",
       "Yes    1869\n",
       "        224\n",
       "Name: count, dtype: int64"
      ]
     },
     "execution_count": 245,
     "metadata": {},
     "output_type": "execute_result"
    }
   ],
   "source": [
    "df['churn'].value_counts(dropna=False)"
   ]
  },
  {
   "cell_type": "code",
   "execution_count": 247,
   "id": "97047029",
   "metadata": {},
   "outputs": [
    {
     "data": {
      "text/plain": [
       "customerID\n",
       "0002-ORFBO    True\n",
       "0003-MKNFE    True\n",
       "0004-TLHLJ    True\n",
       "0011-IGKFF    True\n",
       "0013-EXCHZ    True\n",
       "              ... \n",
       "9987-LUTYD    True\n",
       "9992-RRAMN    True\n",
       "9992-UJOEL    True\n",
       "9993-LHIEB    True\n",
       "9995-HOTOH    True\n",
       "Name: churn, Length: 7267, dtype: bool"
      ]
     },
     "execution_count": 247,
     "metadata": {},
     "output_type": "execute_result"
    }
   ],
   "source": [
    "# Série booleana com indices do DF que estão adequados\n",
    "# ao padrão \"Yes\"/\"No\":\n",
    "df['churn'].isin(['Yes','No'])"
   ]
  },
  {
   "cell_type": "code",
   "execution_count": 249,
   "id": "f884980a",
   "metadata": {},
   "outputs": [
    {
     "data": {
      "text/html": [
       "<div>\n",
       "<style scoped>\n",
       "    .dataframe tbody tr th:only-of-type {\n",
       "        vertical-align: middle;\n",
       "    }\n",
       "\n",
       "    .dataframe tbody tr th {\n",
       "        vertical-align: top;\n",
       "    }\n",
       "\n",
       "    .dataframe thead th {\n",
       "        text-align: right;\n",
       "    }\n",
       "</style>\n",
       "<table border=\"1\" class=\"dataframe\">\n",
       "  <thead>\n",
       "    <tr style=\"text-align: right;\">\n",
       "      <th></th>\n",
       "      <th>churn</th>\n",
       "      <th>gender</th>\n",
       "      <th>seniorcitizen</th>\n",
       "      <th>partner</th>\n",
       "      <th>dependents</th>\n",
       "      <th>tenure</th>\n",
       "      <th>phoneservice</th>\n",
       "      <th>multiplelines</th>\n",
       "      <th>internetservice</th>\n",
       "      <th>onlinesecurity</th>\n",
       "      <th>onlinebackup</th>\n",
       "      <th>deviceprotection</th>\n",
       "      <th>techsupport</th>\n",
       "      <th>streamingtv</th>\n",
       "      <th>streamingmovies</th>\n",
       "      <th>contract</th>\n",
       "      <th>paperlessbilling</th>\n",
       "      <th>paymentmethod</th>\n",
       "      <th>charges_monthly</th>\n",
       "      <th>charges_total</th>\n",
       "    </tr>\n",
       "    <tr>\n",
       "      <th>customerID</th>\n",
       "      <th></th>\n",
       "      <th></th>\n",
       "      <th></th>\n",
       "      <th></th>\n",
       "      <th></th>\n",
       "      <th></th>\n",
       "      <th></th>\n",
       "      <th></th>\n",
       "      <th></th>\n",
       "      <th></th>\n",
       "      <th></th>\n",
       "      <th></th>\n",
       "      <th></th>\n",
       "      <th></th>\n",
       "      <th></th>\n",
       "      <th></th>\n",
       "      <th></th>\n",
       "      <th></th>\n",
       "      <th></th>\n",
       "      <th></th>\n",
       "    </tr>\n",
       "  </thead>\n",
       "  <tbody>\n",
       "    <tr>\n",
       "      <th>0002-ORFBO</th>\n",
       "      <td>No</td>\n",
       "      <td>Female</td>\n",
       "      <td>0</td>\n",
       "      <td>Yes</td>\n",
       "      <td>Yes</td>\n",
       "      <td>9</td>\n",
       "      <td>Yes</td>\n",
       "      <td>No</td>\n",
       "      <td>DSL</td>\n",
       "      <td>No</td>\n",
       "      <td>Yes</td>\n",
       "      <td>No</td>\n",
       "      <td>Yes</td>\n",
       "      <td>Yes</td>\n",
       "      <td>No</td>\n",
       "      <td>One year</td>\n",
       "      <td>Yes</td>\n",
       "      <td>Mailed check</td>\n",
       "      <td>65.6</td>\n",
       "      <td>593.3</td>\n",
       "    </tr>\n",
       "    <tr>\n",
       "      <th>0003-MKNFE</th>\n",
       "      <td>No</td>\n",
       "      <td>Male</td>\n",
       "      <td>0</td>\n",
       "      <td>No</td>\n",
       "      <td>No</td>\n",
       "      <td>9</td>\n",
       "      <td>Yes</td>\n",
       "      <td>Yes</td>\n",
       "      <td>DSL</td>\n",
       "      <td>No</td>\n",
       "      <td>No</td>\n",
       "      <td>No</td>\n",
       "      <td>No</td>\n",
       "      <td>No</td>\n",
       "      <td>Yes</td>\n",
       "      <td>Month-to-month</td>\n",
       "      <td>No</td>\n",
       "      <td>Mailed check</td>\n",
       "      <td>59.9</td>\n",
       "      <td>542.4</td>\n",
       "    </tr>\n",
       "    <tr>\n",
       "      <th>0004-TLHLJ</th>\n",
       "      <td>Yes</td>\n",
       "      <td>Male</td>\n",
       "      <td>0</td>\n",
       "      <td>No</td>\n",
       "      <td>No</td>\n",
       "      <td>4</td>\n",
       "      <td>Yes</td>\n",
       "      <td>No</td>\n",
       "      <td>Fiber optic</td>\n",
       "      <td>No</td>\n",
       "      <td>No</td>\n",
       "      <td>Yes</td>\n",
       "      <td>No</td>\n",
       "      <td>No</td>\n",
       "      <td>No</td>\n",
       "      <td>Month-to-month</td>\n",
       "      <td>Yes</td>\n",
       "      <td>Electronic check</td>\n",
       "      <td>73.9</td>\n",
       "      <td>280.85</td>\n",
       "    </tr>\n",
       "  </tbody>\n",
       "</table>\n",
       "</div>"
      ],
      "text/plain": [
       "           churn  gender  seniorcitizen partner dependents  tenure  \\\n",
       "customerID                                                           \n",
       "0002-ORFBO    No  Female              0     Yes        Yes       9   \n",
       "0003-MKNFE    No    Male              0      No         No       9   \n",
       "0004-TLHLJ   Yes    Male              0      No         No       4   \n",
       "\n",
       "           phoneservice multiplelines internetservice onlinesecurity  \\\n",
       "customerID                                                             \n",
       "0002-ORFBO          Yes            No             DSL             No   \n",
       "0003-MKNFE          Yes           Yes             DSL             No   \n",
       "0004-TLHLJ          Yes            No     Fiber optic             No   \n",
       "\n",
       "           onlinebackup deviceprotection techsupport streamingtv  \\\n",
       "customerID                                                         \n",
       "0002-ORFBO          Yes               No         Yes         Yes   \n",
       "0003-MKNFE           No               No          No          No   \n",
       "0004-TLHLJ           No              Yes          No          No   \n",
       "\n",
       "           streamingmovies        contract paperlessbilling     paymentmethod  \\\n",
       "customerID                                                                      \n",
       "0002-ORFBO              No        One year              Yes      Mailed check   \n",
       "0003-MKNFE             Yes  Month-to-month               No      Mailed check   \n",
       "0004-TLHLJ              No  Month-to-month              Yes  Electronic check   \n",
       "\n",
       "            charges_monthly charges_total  \n",
       "customerID                                 \n",
       "0002-ORFBO             65.6         593.3  \n",
       "0003-MKNFE             59.9         542.4  \n",
       "0004-TLHLJ             73.9        280.85  "
      ]
     },
     "execution_count": 249,
     "metadata": {},
     "output_type": "execute_result"
    }
   ],
   "source": [
    "# Indices os quais RESPEITAM o padrão acima:\n",
    "df[df['churn'].isin(['Yes','No'])].head(3) "
   ]
  },
  {
   "cell_type": "code",
   "execution_count": 250,
   "id": "aaa94d0c",
   "metadata": {},
   "outputs": [
    {
     "data": {
      "text/html": [
       "<div>\n",
       "<style scoped>\n",
       "    .dataframe tbody tr th:only-of-type {\n",
       "        vertical-align: middle;\n",
       "    }\n",
       "\n",
       "    .dataframe tbody tr th {\n",
       "        vertical-align: top;\n",
       "    }\n",
       "\n",
       "    .dataframe thead th {\n",
       "        text-align: right;\n",
       "    }\n",
       "</style>\n",
       "<table border=\"1\" class=\"dataframe\">\n",
       "  <thead>\n",
       "    <tr style=\"text-align: right;\">\n",
       "      <th></th>\n",
       "      <th>churn</th>\n",
       "      <th>gender</th>\n",
       "      <th>seniorcitizen</th>\n",
       "      <th>partner</th>\n",
       "      <th>dependents</th>\n",
       "      <th>tenure</th>\n",
       "      <th>phoneservice</th>\n",
       "      <th>multiplelines</th>\n",
       "      <th>internetservice</th>\n",
       "      <th>onlinesecurity</th>\n",
       "      <th>onlinebackup</th>\n",
       "      <th>deviceprotection</th>\n",
       "      <th>techsupport</th>\n",
       "      <th>streamingtv</th>\n",
       "      <th>streamingmovies</th>\n",
       "      <th>contract</th>\n",
       "      <th>paperlessbilling</th>\n",
       "      <th>paymentmethod</th>\n",
       "      <th>charges_monthly</th>\n",
       "      <th>charges_total</th>\n",
       "    </tr>\n",
       "    <tr>\n",
       "      <th>customerID</th>\n",
       "      <th></th>\n",
       "      <th></th>\n",
       "      <th></th>\n",
       "      <th></th>\n",
       "      <th></th>\n",
       "      <th></th>\n",
       "      <th></th>\n",
       "      <th></th>\n",
       "      <th></th>\n",
       "      <th></th>\n",
       "      <th></th>\n",
       "      <th></th>\n",
       "      <th></th>\n",
       "      <th></th>\n",
       "      <th></th>\n",
       "      <th></th>\n",
       "      <th></th>\n",
       "      <th></th>\n",
       "      <th></th>\n",
       "      <th></th>\n",
       "    </tr>\n",
       "  </thead>\n",
       "  <tbody>\n",
       "    <tr>\n",
       "      <th>0047-ZHDTW</th>\n",
       "      <td></td>\n",
       "      <td>Female</td>\n",
       "      <td>0</td>\n",
       "      <td>No</td>\n",
       "      <td>No</td>\n",
       "      <td>11</td>\n",
       "      <td>Yes</td>\n",
       "      <td>Yes</td>\n",
       "      <td>Fiber optic</td>\n",
       "      <td>Yes</td>\n",
       "      <td>No</td>\n",
       "      <td>No</td>\n",
       "      <td>No</td>\n",
       "      <td>No</td>\n",
       "      <td>No</td>\n",
       "      <td>Month-to-month</td>\n",
       "      <td>Yes</td>\n",
       "      <td>Bank transfer (automatic)</td>\n",
       "      <td>79.00</td>\n",
       "      <td>929.3</td>\n",
       "    </tr>\n",
       "    <tr>\n",
       "      <th>0120-YZLQA</th>\n",
       "      <td></td>\n",
       "      <td>Male</td>\n",
       "      <td>0</td>\n",
       "      <td>No</td>\n",
       "      <td>No</td>\n",
       "      <td>71</td>\n",
       "      <td>Yes</td>\n",
       "      <td>No</td>\n",
       "      <td>No</td>\n",
       "      <td>No internet service</td>\n",
       "      <td>No internet service</td>\n",
       "      <td>No internet service</td>\n",
       "      <td>No internet service</td>\n",
       "      <td>No internet service</td>\n",
       "      <td>No internet service</td>\n",
       "      <td>Two year</td>\n",
       "      <td>Yes</td>\n",
       "      <td>Credit card (automatic)</td>\n",
       "      <td>19.90</td>\n",
       "      <td>1355.1</td>\n",
       "    </tr>\n",
       "    <tr>\n",
       "      <th>0154-QYHJU</th>\n",
       "      <td></td>\n",
       "      <td>Male</td>\n",
       "      <td>0</td>\n",
       "      <td>No</td>\n",
       "      <td>No</td>\n",
       "      <td>29</td>\n",
       "      <td>Yes</td>\n",
       "      <td>No</td>\n",
       "      <td>DSL</td>\n",
       "      <td>Yes</td>\n",
       "      <td>Yes</td>\n",
       "      <td>No</td>\n",
       "      <td>Yes</td>\n",
       "      <td>No</td>\n",
       "      <td>No</td>\n",
       "      <td>One year</td>\n",
       "      <td>Yes</td>\n",
       "      <td>Electronic check</td>\n",
       "      <td>58.75</td>\n",
       "      <td>1696.2</td>\n",
       "    </tr>\n",
       "  </tbody>\n",
       "</table>\n",
       "</div>"
      ],
      "text/plain": [
       "           churn  gender  seniorcitizen partner dependents  tenure  \\\n",
       "customerID                                                           \n",
       "0047-ZHDTW        Female              0      No         No      11   \n",
       "0120-YZLQA          Male              0      No         No      71   \n",
       "0154-QYHJU          Male              0      No         No      29   \n",
       "\n",
       "           phoneservice multiplelines internetservice       onlinesecurity  \\\n",
       "customerID                                                                   \n",
       "0047-ZHDTW          Yes           Yes     Fiber optic                  Yes   \n",
       "0120-YZLQA          Yes            No              No  No internet service   \n",
       "0154-QYHJU          Yes            No             DSL                  Yes   \n",
       "\n",
       "                   onlinebackup     deviceprotection          techsupport  \\\n",
       "customerID                                                                  \n",
       "0047-ZHDTW                   No                   No                   No   \n",
       "0120-YZLQA  No internet service  No internet service  No internet service   \n",
       "0154-QYHJU                  Yes                   No                  Yes   \n",
       "\n",
       "                    streamingtv      streamingmovies        contract  \\\n",
       "customerID                                                             \n",
       "0047-ZHDTW                   No                   No  Month-to-month   \n",
       "0120-YZLQA  No internet service  No internet service        Two year   \n",
       "0154-QYHJU                   No                   No        One year   \n",
       "\n",
       "           paperlessbilling              paymentmethod  charges_monthly  \\\n",
       "customerID                                                                \n",
       "0047-ZHDTW              Yes  Bank transfer (automatic)            79.00   \n",
       "0120-YZLQA              Yes    Credit card (automatic)            19.90   \n",
       "0154-QYHJU              Yes           Electronic check            58.75   \n",
       "\n",
       "           charges_total  \n",
       "customerID                \n",
       "0047-ZHDTW         929.3  \n",
       "0120-YZLQA        1355.1  \n",
       "0154-QYHJU        1696.2  "
      ]
     },
     "execution_count": 250,
     "metadata": {},
     "output_type": "execute_result"
    }
   ],
   "source": [
    "# Indices os quais NÃO respeitam:\n",
    "df[~df['churn'].isin(['Yes','No'])].head(3)"
   ]
  },
  {
   "cell_type": "code",
   "execution_count": 252,
   "id": "3311720c",
   "metadata": {},
   "outputs": [
    {
     "data": {
      "text/plain": [
       "224"
      ]
     },
     "execution_count": 252,
     "metadata": {},
     "output_type": "execute_result"
    }
   ],
   "source": [
    "len(df[~df['churn'].isin(['Yes','No'])]) # Número deles"
   ]
  },
  {
   "cell_type": "code",
   "execution_count": 257,
   "id": "caeda891",
   "metadata": {},
   "outputs": [],
   "source": [
    "df = df[df['churn'].isin(['Yes','No'])] # Retirando todos os índices indesejados do Dataframe"
   ]
  },
  {
   "cell_type": "code",
   "execution_count": 261,
   "id": "c6610a04",
   "metadata": {},
   "outputs": [
    {
     "data": {
      "text/plain": [
       "churn\n",
       "No     5174\n",
       "Yes    1869\n",
       "Name: count, dtype: int64"
      ]
     },
     "execution_count": 261,
     "metadata": {},
     "output_type": "execute_result"
    }
   ],
   "source": [
    "df['churn'].value_counts()"
   ]
  },
  {
   "cell_type": "code",
   "execution_count": 263,
   "id": "81803672",
   "metadata": {},
   "outputs": [],
   "source": [
    "df['churn'] = df['churn'].astype(str)"
   ]
  },
  {
   "cell_type": "code",
   "execution_count": 265,
   "id": "2eaf3b92",
   "metadata": {},
   "outputs": [],
   "source": [
    "df = df[~df['charges_total'].isin(['',' '])] # Removendo valores vazios dos registros de cobrança."
   ]
  },
  {
   "cell_type": "code",
   "execution_count": 278,
   "id": "1364aff5",
   "metadata": {},
   "outputs": [],
   "source": [
    "import numpy as np\n",
    "\n",
    "df.loc[:,'charges_total'] = df['charges_total'].astype(np.float64)"
   ]
  },
  {
   "cell_type": "code",
   "execution_count": 279,
   "id": "5cd26737",
   "metadata": {},
   "outputs": [
    {
     "data": {
      "text/plain": [
       "customerID\n",
       "0002-ORFBO    593.30\n",
       "0003-MKNFE    542.40\n",
       "0004-TLHLJ    280.85\n",
       "Name: charges_total, dtype: float64"
      ]
     },
     "execution_count": 279,
     "metadata": {},
     "output_type": "execute_result"
    }
   ],
   "source": [
    "df.charges_total.head(3)"
   ]
  },
  {
   "cell_type": "code",
   "execution_count": 281,
   "id": "caf39b89",
   "metadata": {},
   "outputs": [
    {
     "data": {
      "text/plain": [
       "customerID\n",
       "0002-ORFBO    593.30\n",
       "0003-MKNFE    542.40\n",
       "0004-TLHLJ    280.85\n",
       "Name: charges_total, dtype: float64"
      ]
     },
     "execution_count": 281,
     "metadata": {},
     "output_type": "execute_result"
    }
   ],
   "source": [
    "df['charges_total'].head(3)"
   ]
  },
  {
   "cell_type": "code",
   "execution_count": 282,
   "id": "e28d3540",
   "metadata": {},
   "outputs": [
    {
     "data": {
      "text/plain": [
       "16056168.7"
      ]
     },
     "execution_count": 282,
     "metadata": {},
     "output_type": "execute_result"
    }
   ],
   "source": [
    "df.charges_total.sum()"
   ]
  },
  {
   "cell_type": "code",
   "execution_count": 283,
   "id": "0cfde985",
   "metadata": {},
   "outputs": [
    {
     "data": {
      "text/plain": [
       "455661.0"
      ]
     },
     "execution_count": 283,
     "metadata": {},
     "output_type": "execute_result"
    }
   ],
   "source": [
    "df.charges_monthly.sum()"
   ]
  },
  {
   "cell_type": "code",
   "execution_count": 285,
   "id": "f2f81481",
   "metadata": {},
   "outputs": [
    {
     "name": "stdout",
     "output_type": "stream",
     "text": [
      "<class 'pandas.core.frame.DataFrame'>\n",
      "Index: 7032 entries, 0002-ORFBO to 9995-HOTOH\n",
      "Data columns (total 20 columns):\n",
      " #   Column            Non-Null Count  Dtype  \n",
      "---  ------            --------------  -----  \n",
      " 0   churn             7032 non-null   object \n",
      " 1   gender            7032 non-null   object \n",
      " 2   seniorcitizen     7032 non-null   int64  \n",
      " 3   partner           7032 non-null   object \n",
      " 4   dependents        7032 non-null   object \n",
      " 5   tenure            7032 non-null   int64  \n",
      " 6   phoneservice      7032 non-null   object \n",
      " 7   multiplelines     7032 non-null   object \n",
      " 8   internetservice   7032 non-null   object \n",
      " 9   onlinesecurity    7032 non-null   object \n",
      " 10  onlinebackup      7032 non-null   object \n",
      " 11  deviceprotection  7032 non-null   object \n",
      " 12  techsupport       7032 non-null   object \n",
      " 13  streamingtv       7032 non-null   object \n",
      " 14  streamingmovies   7032 non-null   object \n",
      " 15  contract          7032 non-null   object \n",
      " 16  paperlessbilling  7032 non-null   object \n",
      " 17  paymentmethod     7032 non-null   object \n",
      " 18  charges_monthly   7032 non-null   float64\n",
      " 19  charges_total     7032 non-null   float64\n",
      "dtypes: float64(2), int64(2), object(16)\n",
      "memory usage: 1.4+ MB\n"
     ]
    }
   ],
   "source": [
    "df.info()"
   ]
  },
  {
   "cell_type": "code",
   "execution_count": 296,
   "id": "d00d4b4d",
   "metadata": {},
   "outputs": [
    {
     "data": {
      "text/plain": [
       "customerID\n",
       "0002-ORFBO    2.186667\n",
       "0003-MKNFE    1.996667\n",
       "0004-TLHLJ    2.463333\n",
       "0011-IGKFF    3.266667\n",
       "0013-EXCHZ    2.796667\n",
       "                ...   \n",
       "9987-LUTYD    1.838333\n",
       "9992-RRAMN    2.836667\n",
       "9992-UJOEL    1.676667\n",
       "9993-LHIEB    2.261667\n",
       "9995-HOTOH    1.966667\n",
       "Name: charges_monthly, Length: 7032, dtype: float64"
      ]
     },
     "execution_count": 296,
     "metadata": {},
     "output_type": "execute_result"
    }
   ],
   "source": [
    "contas_diarias_calc = (df['charges_monthly']/30)\n",
    "contas_diarias_calc"
   ]
  },
  {
   "cell_type": "code",
   "execution_count": 297,
   "id": "4a08036d",
   "metadata": {},
   "outputs": [],
   "source": [
    "df['contas_diarias'] = contas_diarias_calc"
   ]
  },
  {
   "cell_type": "code",
   "execution_count": 298,
   "id": "4ff41f0d",
   "metadata": {},
   "outputs": [
    {
     "data": {
      "text/plain": [
       "Index(['churn', 'gender', 'seniorcitizen', 'partner', 'dependents', 'tenure',\n",
       "       'phoneservice', 'multiplelines', 'internetservice', 'onlinesecurity',\n",
       "       'onlinebackup', 'deviceprotection', 'techsupport', 'streamingtv',\n",
       "       'streamingmovies', 'contract', 'paperlessbilling', 'paymentmethod',\n",
       "       'charges_monthly', 'charges_total', 'contas_diarias'],\n",
       "      dtype='object')"
      ]
     },
     "execution_count": 298,
     "metadata": {},
     "output_type": "execute_result"
    }
   ],
   "source": [
    "df.columns"
   ]
  },
  {
   "cell_type": "code",
   "execution_count": 299,
   "id": "0c42cd76",
   "metadata": {},
   "outputs": [
    {
     "data": {
      "text/html": [
       "<div>\n",
       "<style scoped>\n",
       "    .dataframe tbody tr th:only-of-type {\n",
       "        vertical-align: middle;\n",
       "    }\n",
       "\n",
       "    .dataframe tbody tr th {\n",
       "        vertical-align: top;\n",
       "    }\n",
       "\n",
       "    .dataframe thead th {\n",
       "        text-align: right;\n",
       "    }\n",
       "</style>\n",
       "<table border=\"1\" class=\"dataframe\">\n",
       "  <thead>\n",
       "    <tr style=\"text-align: right;\">\n",
       "      <th></th>\n",
       "      <th>churn</th>\n",
       "      <th>gender</th>\n",
       "      <th>seniorcitizen</th>\n",
       "      <th>partner</th>\n",
       "      <th>dependents</th>\n",
       "      <th>tenure</th>\n",
       "      <th>phoneservice</th>\n",
       "      <th>multiplelines</th>\n",
       "      <th>internetservice</th>\n",
       "      <th>onlinesecurity</th>\n",
       "      <th>...</th>\n",
       "      <th>deviceprotection</th>\n",
       "      <th>techsupport</th>\n",
       "      <th>streamingtv</th>\n",
       "      <th>streamingmovies</th>\n",
       "      <th>contract</th>\n",
       "      <th>paperlessbilling</th>\n",
       "      <th>paymentmethod</th>\n",
       "      <th>charges_monthly</th>\n",
       "      <th>charges_total</th>\n",
       "      <th>contas_diarias</th>\n",
       "    </tr>\n",
       "    <tr>\n",
       "      <th>customerID</th>\n",
       "      <th></th>\n",
       "      <th></th>\n",
       "      <th></th>\n",
       "      <th></th>\n",
       "      <th></th>\n",
       "      <th></th>\n",
       "      <th></th>\n",
       "      <th></th>\n",
       "      <th></th>\n",
       "      <th></th>\n",
       "      <th></th>\n",
       "      <th></th>\n",
       "      <th></th>\n",
       "      <th></th>\n",
       "      <th></th>\n",
       "      <th></th>\n",
       "      <th></th>\n",
       "      <th></th>\n",
       "      <th></th>\n",
       "      <th></th>\n",
       "      <th></th>\n",
       "    </tr>\n",
       "  </thead>\n",
       "  <tbody>\n",
       "    <tr>\n",
       "      <th>0002-ORFBO</th>\n",
       "      <td>No</td>\n",
       "      <td>Female</td>\n",
       "      <td>0</td>\n",
       "      <td>Yes</td>\n",
       "      <td>Yes</td>\n",
       "      <td>9</td>\n",
       "      <td>Yes</td>\n",
       "      <td>No</td>\n",
       "      <td>DSL</td>\n",
       "      <td>No</td>\n",
       "      <td>...</td>\n",
       "      <td>No</td>\n",
       "      <td>Yes</td>\n",
       "      <td>Yes</td>\n",
       "      <td>No</td>\n",
       "      <td>One year</td>\n",
       "      <td>Yes</td>\n",
       "      <td>Mailed check</td>\n",
       "      <td>65.6</td>\n",
       "      <td>593.3</td>\n",
       "      <td>2.186667</td>\n",
       "    </tr>\n",
       "  </tbody>\n",
       "</table>\n",
       "<p>1 rows × 21 columns</p>\n",
       "</div>"
      ],
      "text/plain": [
       "           churn  gender  seniorcitizen partner dependents  tenure  \\\n",
       "customerID                                                           \n",
       "0002-ORFBO    No  Female              0     Yes        Yes       9   \n",
       "\n",
       "           phoneservice multiplelines internetservice onlinesecurity  ...  \\\n",
       "customerID                                                            ...   \n",
       "0002-ORFBO          Yes            No             DSL             No  ...   \n",
       "\n",
       "           deviceprotection techsupport streamingtv streamingmovies  contract  \\\n",
       "customerID                                                                      \n",
       "0002-ORFBO               No         Yes         Yes              No  One year   \n",
       "\n",
       "           paperlessbilling paymentmethod charges_monthly  charges_total  \\\n",
       "customerID                                                                 \n",
       "0002-ORFBO              Yes  Mailed check            65.6          593.3   \n",
       "\n",
       "            contas_diarias  \n",
       "customerID                  \n",
       "0002-ORFBO        2.186667  \n",
       "\n",
       "[1 rows x 21 columns]"
      ]
     },
     "execution_count": 299,
     "metadata": {},
     "output_type": "execute_result"
    }
   ],
   "source": [
    "df.head(1)"
   ]
  },
  {
   "cell_type": "markdown",
   "id": "a68de116",
   "metadata": {},
   "source": [
    "### **📊 (ETL fase 05) - Carga e Análise (L - Load & Analysis)**"
   ]
  },
  {
   "cell_type": "code",
   "execution_count": 305,
   "id": "91f33595",
   "metadata": {},
   "outputs": [
    {
     "data": {
      "text/html": [
       "<div>\n",
       "<style scoped>\n",
       "    .dataframe tbody tr th:only-of-type {\n",
       "        vertical-align: middle;\n",
       "    }\n",
       "\n",
       "    .dataframe tbody tr th {\n",
       "        vertical-align: top;\n",
       "    }\n",
       "\n",
       "    .dataframe thead th {\n",
       "        text-align: right;\n",
       "    }\n",
       "</style>\n",
       "<table border=\"1\" class=\"dataframe\">\n",
       "  <thead>\n",
       "    <tr style=\"text-align: right;\">\n",
       "      <th></th>\n",
       "      <th>seniorcitizen</th>\n",
       "      <th>tenure</th>\n",
       "      <th>charges_monthly</th>\n",
       "      <th>charges_total</th>\n",
       "      <th>contas_diarias</th>\n",
       "    </tr>\n",
       "  </thead>\n",
       "  <tbody>\n",
       "    <tr>\n",
       "      <th>count</th>\n",
       "      <td>7032.000000</td>\n",
       "      <td>7032.000000</td>\n",
       "      <td>7032.000000</td>\n",
       "      <td>7032.000000</td>\n",
       "      <td>7032.000000</td>\n",
       "    </tr>\n",
       "    <tr>\n",
       "      <th>mean</th>\n",
       "      <td>0.162400</td>\n",
       "      <td>32.421786</td>\n",
       "      <td>64.798208</td>\n",
       "      <td>2283.300441</td>\n",
       "      <td>2.159940</td>\n",
       "    </tr>\n",
       "    <tr>\n",
       "      <th>std</th>\n",
       "      <td>0.368844</td>\n",
       "      <td>24.545260</td>\n",
       "      <td>30.085974</td>\n",
       "      <td>2266.771362</td>\n",
       "      <td>1.002866</td>\n",
       "    </tr>\n",
       "    <tr>\n",
       "      <th>min</th>\n",
       "      <td>0.000000</td>\n",
       "      <td>1.000000</td>\n",
       "      <td>18.250000</td>\n",
       "      <td>18.800000</td>\n",
       "      <td>0.608333</td>\n",
       "    </tr>\n",
       "    <tr>\n",
       "      <th>25%</th>\n",
       "      <td>0.000000</td>\n",
       "      <td>9.000000</td>\n",
       "      <td>35.587500</td>\n",
       "      <td>401.450000</td>\n",
       "      <td>1.186250</td>\n",
       "    </tr>\n",
       "    <tr>\n",
       "      <th>50%</th>\n",
       "      <td>0.000000</td>\n",
       "      <td>29.000000</td>\n",
       "      <td>70.350000</td>\n",
       "      <td>1397.475000</td>\n",
       "      <td>2.345000</td>\n",
       "    </tr>\n",
       "    <tr>\n",
       "      <th>75%</th>\n",
       "      <td>0.000000</td>\n",
       "      <td>55.000000</td>\n",
       "      <td>89.862500</td>\n",
       "      <td>3794.737500</td>\n",
       "      <td>2.995417</td>\n",
       "    </tr>\n",
       "    <tr>\n",
       "      <th>max</th>\n",
       "      <td>1.000000</td>\n",
       "      <td>72.000000</td>\n",
       "      <td>118.750000</td>\n",
       "      <td>8684.800000</td>\n",
       "      <td>3.958333</td>\n",
       "    </tr>\n",
       "  </tbody>\n",
       "</table>\n",
       "</div>"
      ],
      "text/plain": [
       "       seniorcitizen       tenure  charges_monthly  charges_total  \\\n",
       "count    7032.000000  7032.000000      7032.000000    7032.000000   \n",
       "mean        0.162400    32.421786        64.798208    2283.300441   \n",
       "std         0.368844    24.545260        30.085974    2266.771362   \n",
       "min         0.000000     1.000000        18.250000      18.800000   \n",
       "25%         0.000000     9.000000        35.587500     401.450000   \n",
       "50%         0.000000    29.000000        70.350000    1397.475000   \n",
       "75%         0.000000    55.000000        89.862500    3794.737500   \n",
       "max         1.000000    72.000000       118.750000    8684.800000   \n",
       "\n",
       "       contas_diarias  \n",
       "count     7032.000000  \n",
       "mean         2.159940  \n",
       "std          1.002866  \n",
       "min          0.608333  \n",
       "25%          1.186250  \n",
       "50%          2.345000  \n",
       "75%          2.995417  \n",
       "max          3.958333  "
      ]
     },
     "execution_count": 305,
     "metadata": {},
     "output_type": "execute_result"
    }
   ],
   "source": [
    "df.describe()"
   ]
  },
  {
   "cell_type": "code",
   "execution_count": 308,
   "id": "acd52371",
   "metadata": {},
   "outputs": [
    {
     "data": {
      "text/html": [
       "<div>\n",
       "<style scoped>\n",
       "    .dataframe tbody tr th:only-of-type {\n",
       "        vertical-align: middle;\n",
       "    }\n",
       "\n",
       "    .dataframe tbody tr th {\n",
       "        vertical-align: top;\n",
       "    }\n",
       "\n",
       "    .dataframe thead th {\n",
       "        text-align: right;\n",
       "    }\n",
       "</style>\n",
       "<table border=\"1\" class=\"dataframe\">\n",
       "  <thead>\n",
       "    <tr style=\"text-align: right;\">\n",
       "      <th></th>\n",
       "      <th>charges_monthly</th>\n",
       "      <th>charges_total</th>\n",
       "      <th>contas_diarias</th>\n",
       "    </tr>\n",
       "  </thead>\n",
       "  <tbody>\n",
       "    <tr>\n",
       "      <th>count</th>\n",
       "      <td>7032.000000</td>\n",
       "      <td>7032.000000</td>\n",
       "      <td>7032.000000</td>\n",
       "    </tr>\n",
       "    <tr>\n",
       "      <th>mean</th>\n",
       "      <td>64.798208</td>\n",
       "      <td>2283.300441</td>\n",
       "      <td>2.159940</td>\n",
       "    </tr>\n",
       "    <tr>\n",
       "      <th>std</th>\n",
       "      <td>30.085974</td>\n",
       "      <td>2266.771362</td>\n",
       "      <td>1.002866</td>\n",
       "    </tr>\n",
       "    <tr>\n",
       "      <th>min</th>\n",
       "      <td>18.250000</td>\n",
       "      <td>18.800000</td>\n",
       "      <td>0.608333</td>\n",
       "    </tr>\n",
       "    <tr>\n",
       "      <th>25%</th>\n",
       "      <td>35.587500</td>\n",
       "      <td>401.450000</td>\n",
       "      <td>1.186250</td>\n",
       "    </tr>\n",
       "    <tr>\n",
       "      <th>50%</th>\n",
       "      <td>70.350000</td>\n",
       "      <td>1397.475000</td>\n",
       "      <td>2.345000</td>\n",
       "    </tr>\n",
       "    <tr>\n",
       "      <th>75%</th>\n",
       "      <td>89.862500</td>\n",
       "      <td>3794.737500</td>\n",
       "      <td>2.995417</td>\n",
       "    </tr>\n",
       "    <tr>\n",
       "      <th>max</th>\n",
       "      <td>118.750000</td>\n",
       "      <td>8684.800000</td>\n",
       "      <td>3.958333</td>\n",
       "    </tr>\n",
       "  </tbody>\n",
       "</table>\n",
       "</div>"
      ],
      "text/plain": [
       "       charges_monthly  charges_total  contas_diarias\n",
       "count      7032.000000    7032.000000     7032.000000\n",
       "mean         64.798208    2283.300441        2.159940\n",
       "std          30.085974    2266.771362        1.002866\n",
       "min          18.250000      18.800000        0.608333\n",
       "25%          35.587500     401.450000        1.186250\n",
       "50%          70.350000    1397.475000        2.345000\n",
       "75%          89.862500    3794.737500        2.995417\n",
       "max         118.750000    8684.800000        3.958333"
      ]
     },
     "execution_count": 308,
     "metadata": {},
     "output_type": "execute_result"
    }
   ],
   "source": [
    "df[['charges_monthly','charges_total','contas_diarias']].describe()"
   ]
  },
  {
   "cell_type": "code",
   "execution_count": 309,
   "id": "0705159f",
   "metadata": {},
   "outputs": [
    {
     "data": {
      "text/plain": [
       "Index(['churn', 'gender', 'seniorcitizen', 'partner', 'dependents', 'tenure',\n",
       "       'phoneservice', 'multiplelines', 'internetservice', 'onlinesecurity',\n",
       "       'onlinebackup', 'deviceprotection', 'techsupport', 'streamingtv',\n",
       "       'streamingmovies', 'contract', 'paperlessbilling', 'paymentmethod',\n",
       "       'charges_monthly', 'charges_total', 'contas_diarias'],\n",
       "      dtype='object')"
      ]
     },
     "execution_count": 309,
     "metadata": {},
     "output_type": "execute_result"
    }
   ],
   "source": [
    "df.columns"
   ]
  },
  {
   "cell_type": "code",
   "execution_count": null,
   "id": "9cf154ef",
   "metadata": {},
   "outputs": [],
   "source": [
    "df[['']] # ... pergar o desvio padrão de month to manth, two years, one year"
   ]
  }
 ],
 "metadata": {
  "language_info": {
   "name": "python"
  }
 },
 "nbformat": 4,
 "nbformat_minor": 5
}
